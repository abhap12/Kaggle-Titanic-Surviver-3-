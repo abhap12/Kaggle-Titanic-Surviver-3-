{
 "cells": [
  {
   "cell_type": "code",
   "execution_count": 1,
   "metadata": {
    "_cell_guid": "b1076dfc-b9ad-4769-8c92-a6c4dae69d19",
    "_uuid": "8f2839f25d086af736a60e9eeb907d3b93b6e0e5",
    "execution": {
     "iopub.execute_input": "2021-05-02T11:28:02.095067Z",
     "iopub.status.busy": "2021-05-02T11:28:02.094023Z",
     "iopub.status.idle": "2021-05-02T11:28:02.104336Z",
     "shell.execute_reply": "2021-05-02T11:28:02.103605Z"
    },
    "papermill": {
     "duration": 0.056587,
     "end_time": "2021-05-02T11:28:02.104496",
     "exception": false,
     "start_time": "2021-05-02T11:28:02.047909",
     "status": "completed"
    },
    "tags": []
   },
   "outputs": [
    {
     "name": "stdout",
     "output_type": "stream",
     "text": [
      "/kaggle/input/titanic/train.csv\n",
      "/kaggle/input/titanic/test.csv\n",
      "/kaggle/input/titanic/gender_submission.csv\n"
     ]
    }
   ],
   "source": [
    "# This Python 3 environment comes with many helpful analytics libraries installed\n",
    "# It is defined by the kaggle/python Docker image: https://github.com/kaggle/docker-python\n",
    "# For example, here's several helpful packages to load\n",
    "\n",
    "import numpy as np # linear algebra\n",
    "import pandas as pd # data processing, CSV file I/O (e.g. pd.read_csv)\n",
    "\n",
    "# Input data files are available in the read-only \"../input/\" directory\n",
    "# For example, running this (by clicking run or pressing Shift+Enter) will list all files under the input directory\n",
    "\n",
    "import os\n",
    "for dirname, _, filenames in os.walk('/kaggle/input'):\n",
    "    for filename in filenames:\n",
    "        print(os.path.join(dirname, filename))\n",
    "\n",
    "# You can write up to 5GB to the current directory (/kaggle/working/) that gets preserved as output when you create a version using \"Save & Run All\" \n",
    "# You can also write temporary files to /kaggle/temp/, but they won't be saved outside of the current session"
   ]
  },
  {
   "cell_type": "code",
   "execution_count": 2,
   "metadata": {
    "execution": {
     "iopub.execute_input": "2021-05-02T11:28:02.194896Z",
     "iopub.status.busy": "2021-05-02T11:28:02.194138Z",
     "iopub.status.idle": "2021-05-02T11:28:03.557493Z",
     "shell.execute_reply": "2021-05-02T11:28:03.556891Z"
    },
    "papermill": {
     "duration": 1.410952,
     "end_time": "2021-05-02T11:28:03.557626",
     "exception": false,
     "start_time": "2021-05-02T11:28:02.146674",
     "status": "completed"
    },
    "tags": []
   },
   "outputs": [],
   "source": [
    "\n",
    "import seaborn as sns\n",
    "import matplotlib.pyplot as plt\n",
    "\n",
    "from sklearn.preprocessing import LabelEncoder, OneHotEncoder\n",
    "from sklearn.tree import DecisionTreeClassifier\n",
    "from sklearn.preprocessing import StandardScaler\n",
    "\n",
    "from numpy.random import seed\n",
    "\n",
    "seed(11111)"
   ]
  },
  {
   "cell_type": "code",
   "execution_count": 3,
   "metadata": {
    "execution": {
     "iopub.execute_input": "2021-05-02T11:28:03.647658Z",
     "iopub.status.busy": "2021-05-02T11:28:03.646899Z",
     "iopub.status.idle": "2021-05-02T11:28:03.672283Z",
     "shell.execute_reply": "2021-05-02T11:28:03.671444Z"
    },
    "papermill": {
     "duration": 0.072234,
     "end_time": "2021-05-02T11:28:03.672448",
     "exception": false,
     "start_time": "2021-05-02T11:28:03.600214",
     "status": "completed"
    },
    "tags": []
   },
   "outputs": [],
   "source": [
    "train=pd.read_csv('/kaggle/input/titanic/train.csv')\n",
    "test=pd.read_csv('/kaggle/input/titanic/test.csv')"
   ]
  },
  {
   "cell_type": "code",
   "execution_count": 4,
   "metadata": {
    "execution": {
     "iopub.execute_input": "2021-05-02T11:28:03.758910Z",
     "iopub.status.busy": "2021-05-02T11:28:03.757806Z",
     "iopub.status.idle": "2021-05-02T11:28:03.840840Z",
     "shell.execute_reply": "2021-05-02T11:28:03.841565Z"
    },
    "papermill": {
     "duration": 0.128153,
     "end_time": "2021-05-02T11:28:03.841712",
     "exception": false,
     "start_time": "2021-05-02T11:28:03.713559",
     "status": "completed"
    },
    "tags": []
   },
   "outputs": [
    {
     "data": {
      "text/html": [
       "<div>\n",
       "<style scoped>\n",
       "    .dataframe tbody tr th:only-of-type {\n",
       "        vertical-align: middle;\n",
       "    }\n",
       "\n",
       "    .dataframe tbody tr th {\n",
       "        vertical-align: top;\n",
       "    }\n",
       "\n",
       "    .dataframe thead th {\n",
       "        text-align: right;\n",
       "    }\n",
       "</style>\n",
       "<table border=\"1\" class=\"dataframe\">\n",
       "  <thead>\n",
       "    <tr style=\"text-align: right;\">\n",
       "      <th></th>\n",
       "      <th>PassengerId</th>\n",
       "      <th>Survived</th>\n",
       "      <th>Pclass</th>\n",
       "      <th>Name</th>\n",
       "      <th>Sex</th>\n",
       "      <th>Age</th>\n",
       "      <th>SibSp</th>\n",
       "      <th>Parch</th>\n",
       "      <th>Ticket</th>\n",
       "      <th>Fare</th>\n",
       "      <th>Cabin</th>\n",
       "      <th>Embarked</th>\n",
       "    </tr>\n",
       "  </thead>\n",
       "  <tbody>\n",
       "    <tr>\n",
       "      <th>count</th>\n",
       "      <td>891.000000</td>\n",
       "      <td>891.000000</td>\n",
       "      <td>891.000000</td>\n",
       "      <td>891</td>\n",
       "      <td>891</td>\n",
       "      <td>714.000000</td>\n",
       "      <td>891.000000</td>\n",
       "      <td>891.000000</td>\n",
       "      <td>891</td>\n",
       "      <td>891.000000</td>\n",
       "      <td>204</td>\n",
       "      <td>889</td>\n",
       "    </tr>\n",
       "    <tr>\n",
       "      <th>unique</th>\n",
       "      <td>NaN</td>\n",
       "      <td>NaN</td>\n",
       "      <td>NaN</td>\n",
       "      <td>891</td>\n",
       "      <td>2</td>\n",
       "      <td>NaN</td>\n",
       "      <td>NaN</td>\n",
       "      <td>NaN</td>\n",
       "      <td>681</td>\n",
       "      <td>NaN</td>\n",
       "      <td>147</td>\n",
       "      <td>3</td>\n",
       "    </tr>\n",
       "    <tr>\n",
       "      <th>top</th>\n",
       "      <td>NaN</td>\n",
       "      <td>NaN</td>\n",
       "      <td>NaN</td>\n",
       "      <td>Osen, Mr. Olaf Elon</td>\n",
       "      <td>male</td>\n",
       "      <td>NaN</td>\n",
       "      <td>NaN</td>\n",
       "      <td>NaN</td>\n",
       "      <td>1601</td>\n",
       "      <td>NaN</td>\n",
       "      <td>G6</td>\n",
       "      <td>S</td>\n",
       "    </tr>\n",
       "    <tr>\n",
       "      <th>freq</th>\n",
       "      <td>NaN</td>\n",
       "      <td>NaN</td>\n",
       "      <td>NaN</td>\n",
       "      <td>1</td>\n",
       "      <td>577</td>\n",
       "      <td>NaN</td>\n",
       "      <td>NaN</td>\n",
       "      <td>NaN</td>\n",
       "      <td>7</td>\n",
       "      <td>NaN</td>\n",
       "      <td>4</td>\n",
       "      <td>644</td>\n",
       "    </tr>\n",
       "    <tr>\n",
       "      <th>mean</th>\n",
       "      <td>446.000000</td>\n",
       "      <td>0.383838</td>\n",
       "      <td>2.308642</td>\n",
       "      <td>NaN</td>\n",
       "      <td>NaN</td>\n",
       "      <td>29.699118</td>\n",
       "      <td>0.523008</td>\n",
       "      <td>0.381594</td>\n",
       "      <td>NaN</td>\n",
       "      <td>32.204208</td>\n",
       "      <td>NaN</td>\n",
       "      <td>NaN</td>\n",
       "    </tr>\n",
       "    <tr>\n",
       "      <th>std</th>\n",
       "      <td>257.353842</td>\n",
       "      <td>0.486592</td>\n",
       "      <td>0.836071</td>\n",
       "      <td>NaN</td>\n",
       "      <td>NaN</td>\n",
       "      <td>14.526497</td>\n",
       "      <td>1.102743</td>\n",
       "      <td>0.806057</td>\n",
       "      <td>NaN</td>\n",
       "      <td>49.693429</td>\n",
       "      <td>NaN</td>\n",
       "      <td>NaN</td>\n",
       "    </tr>\n",
       "    <tr>\n",
       "      <th>min</th>\n",
       "      <td>1.000000</td>\n",
       "      <td>0.000000</td>\n",
       "      <td>1.000000</td>\n",
       "      <td>NaN</td>\n",
       "      <td>NaN</td>\n",
       "      <td>0.420000</td>\n",
       "      <td>0.000000</td>\n",
       "      <td>0.000000</td>\n",
       "      <td>NaN</td>\n",
       "      <td>0.000000</td>\n",
       "      <td>NaN</td>\n",
       "      <td>NaN</td>\n",
       "    </tr>\n",
       "    <tr>\n",
       "      <th>25%</th>\n",
       "      <td>223.500000</td>\n",
       "      <td>0.000000</td>\n",
       "      <td>2.000000</td>\n",
       "      <td>NaN</td>\n",
       "      <td>NaN</td>\n",
       "      <td>20.125000</td>\n",
       "      <td>0.000000</td>\n",
       "      <td>0.000000</td>\n",
       "      <td>NaN</td>\n",
       "      <td>7.910400</td>\n",
       "      <td>NaN</td>\n",
       "      <td>NaN</td>\n",
       "    </tr>\n",
       "    <tr>\n",
       "      <th>50%</th>\n",
       "      <td>446.000000</td>\n",
       "      <td>0.000000</td>\n",
       "      <td>3.000000</td>\n",
       "      <td>NaN</td>\n",
       "      <td>NaN</td>\n",
       "      <td>28.000000</td>\n",
       "      <td>0.000000</td>\n",
       "      <td>0.000000</td>\n",
       "      <td>NaN</td>\n",
       "      <td>14.454200</td>\n",
       "      <td>NaN</td>\n",
       "      <td>NaN</td>\n",
       "    </tr>\n",
       "    <tr>\n",
       "      <th>75%</th>\n",
       "      <td>668.500000</td>\n",
       "      <td>1.000000</td>\n",
       "      <td>3.000000</td>\n",
       "      <td>NaN</td>\n",
       "      <td>NaN</td>\n",
       "      <td>38.000000</td>\n",
       "      <td>1.000000</td>\n",
       "      <td>0.000000</td>\n",
       "      <td>NaN</td>\n",
       "      <td>31.000000</td>\n",
       "      <td>NaN</td>\n",
       "      <td>NaN</td>\n",
       "    </tr>\n",
       "    <tr>\n",
       "      <th>max</th>\n",
       "      <td>891.000000</td>\n",
       "      <td>1.000000</td>\n",
       "      <td>3.000000</td>\n",
       "      <td>NaN</td>\n",
       "      <td>NaN</td>\n",
       "      <td>80.000000</td>\n",
       "      <td>8.000000</td>\n",
       "      <td>6.000000</td>\n",
       "      <td>NaN</td>\n",
       "      <td>512.329200</td>\n",
       "      <td>NaN</td>\n",
       "      <td>NaN</td>\n",
       "    </tr>\n",
       "  </tbody>\n",
       "</table>\n",
       "</div>"
      ],
      "text/plain": [
       "        PassengerId    Survived      Pclass                 Name   Sex  \\\n",
       "count    891.000000  891.000000  891.000000                  891   891   \n",
       "unique          NaN         NaN         NaN                  891     2   \n",
       "top             NaN         NaN         NaN  Osen, Mr. Olaf Elon  male   \n",
       "freq            NaN         NaN         NaN                    1   577   \n",
       "mean     446.000000    0.383838    2.308642                  NaN   NaN   \n",
       "std      257.353842    0.486592    0.836071                  NaN   NaN   \n",
       "min        1.000000    0.000000    1.000000                  NaN   NaN   \n",
       "25%      223.500000    0.000000    2.000000                  NaN   NaN   \n",
       "50%      446.000000    0.000000    3.000000                  NaN   NaN   \n",
       "75%      668.500000    1.000000    3.000000                  NaN   NaN   \n",
       "max      891.000000    1.000000    3.000000                  NaN   NaN   \n",
       "\n",
       "               Age       SibSp       Parch Ticket        Fare Cabin Embarked  \n",
       "count   714.000000  891.000000  891.000000    891  891.000000   204      889  \n",
       "unique         NaN         NaN         NaN    681         NaN   147        3  \n",
       "top            NaN         NaN         NaN   1601         NaN    G6        S  \n",
       "freq           NaN         NaN         NaN      7         NaN     4      644  \n",
       "mean     29.699118    0.523008    0.381594    NaN   32.204208   NaN      NaN  \n",
       "std      14.526497    1.102743    0.806057    NaN   49.693429   NaN      NaN  \n",
       "min       0.420000    0.000000    0.000000    NaN    0.000000   NaN      NaN  \n",
       "25%      20.125000    0.000000    0.000000    NaN    7.910400   NaN      NaN  \n",
       "50%      28.000000    0.000000    0.000000    NaN   14.454200   NaN      NaN  \n",
       "75%      38.000000    1.000000    0.000000    NaN   31.000000   NaN      NaN  \n",
       "max      80.000000    8.000000    6.000000    NaN  512.329200   NaN      NaN  "
      ]
     },
     "execution_count": 4,
     "metadata": {},
     "output_type": "execute_result"
    }
   ],
   "source": [
    "train.describe(include='all')"
   ]
  },
  {
   "cell_type": "code",
   "execution_count": 5,
   "metadata": {
    "execution": {
     "iopub.execute_input": "2021-05-02T11:28:03.934880Z",
     "iopub.status.busy": "2021-05-02T11:28:03.933808Z",
     "iopub.status.idle": "2021-05-02T11:28:03.980132Z",
     "shell.execute_reply": "2021-05-02T11:28:03.980741Z"
    },
    "papermill": {
     "duration": 0.096558,
     "end_time": "2021-05-02T11:28:03.980890",
     "exception": false,
     "start_time": "2021-05-02T11:28:03.884332",
     "status": "completed"
    },
    "tags": []
   },
   "outputs": [
    {
     "data": {
      "text/html": [
       "<div>\n",
       "<style scoped>\n",
       "    .dataframe tbody tr th:only-of-type {\n",
       "        vertical-align: middle;\n",
       "    }\n",
       "\n",
       "    .dataframe tbody tr th {\n",
       "        vertical-align: top;\n",
       "    }\n",
       "\n",
       "    .dataframe thead th {\n",
       "        text-align: right;\n",
       "    }\n",
       "</style>\n",
       "<table border=\"1\" class=\"dataframe\">\n",
       "  <thead>\n",
       "    <tr style=\"text-align: right;\">\n",
       "      <th></th>\n",
       "      <th>PassengerId</th>\n",
       "      <th>Pclass</th>\n",
       "      <th>Name</th>\n",
       "      <th>Sex</th>\n",
       "      <th>Age</th>\n",
       "      <th>SibSp</th>\n",
       "      <th>Parch</th>\n",
       "      <th>Ticket</th>\n",
       "      <th>Fare</th>\n",
       "      <th>Cabin</th>\n",
       "      <th>Embarked</th>\n",
       "    </tr>\n",
       "  </thead>\n",
       "  <tbody>\n",
       "    <tr>\n",
       "      <th>count</th>\n",
       "      <td>418.000000</td>\n",
       "      <td>418.000000</td>\n",
       "      <td>418</td>\n",
       "      <td>418</td>\n",
       "      <td>332.000000</td>\n",
       "      <td>418.000000</td>\n",
       "      <td>418.000000</td>\n",
       "      <td>418</td>\n",
       "      <td>417.000000</td>\n",
       "      <td>91</td>\n",
       "      <td>418</td>\n",
       "    </tr>\n",
       "    <tr>\n",
       "      <th>unique</th>\n",
       "      <td>NaN</td>\n",
       "      <td>NaN</td>\n",
       "      <td>418</td>\n",
       "      <td>2</td>\n",
       "      <td>NaN</td>\n",
       "      <td>NaN</td>\n",
       "      <td>NaN</td>\n",
       "      <td>363</td>\n",
       "      <td>NaN</td>\n",
       "      <td>76</td>\n",
       "      <td>3</td>\n",
       "    </tr>\n",
       "    <tr>\n",
       "      <th>top</th>\n",
       "      <td>NaN</td>\n",
       "      <td>NaN</td>\n",
       "      <td>Matinoff, Mr. Nicola</td>\n",
       "      <td>male</td>\n",
       "      <td>NaN</td>\n",
       "      <td>NaN</td>\n",
       "      <td>NaN</td>\n",
       "      <td>PC 17608</td>\n",
       "      <td>NaN</td>\n",
       "      <td>B57 B59 B63 B66</td>\n",
       "      <td>S</td>\n",
       "    </tr>\n",
       "    <tr>\n",
       "      <th>freq</th>\n",
       "      <td>NaN</td>\n",
       "      <td>NaN</td>\n",
       "      <td>1</td>\n",
       "      <td>266</td>\n",
       "      <td>NaN</td>\n",
       "      <td>NaN</td>\n",
       "      <td>NaN</td>\n",
       "      <td>5</td>\n",
       "      <td>NaN</td>\n",
       "      <td>3</td>\n",
       "      <td>270</td>\n",
       "    </tr>\n",
       "    <tr>\n",
       "      <th>mean</th>\n",
       "      <td>1100.500000</td>\n",
       "      <td>2.265550</td>\n",
       "      <td>NaN</td>\n",
       "      <td>NaN</td>\n",
       "      <td>30.272590</td>\n",
       "      <td>0.447368</td>\n",
       "      <td>0.392344</td>\n",
       "      <td>NaN</td>\n",
       "      <td>35.627188</td>\n",
       "      <td>NaN</td>\n",
       "      <td>NaN</td>\n",
       "    </tr>\n",
       "    <tr>\n",
       "      <th>std</th>\n",
       "      <td>120.810458</td>\n",
       "      <td>0.841838</td>\n",
       "      <td>NaN</td>\n",
       "      <td>NaN</td>\n",
       "      <td>14.181209</td>\n",
       "      <td>0.896760</td>\n",
       "      <td>0.981429</td>\n",
       "      <td>NaN</td>\n",
       "      <td>55.907576</td>\n",
       "      <td>NaN</td>\n",
       "      <td>NaN</td>\n",
       "    </tr>\n",
       "    <tr>\n",
       "      <th>min</th>\n",
       "      <td>892.000000</td>\n",
       "      <td>1.000000</td>\n",
       "      <td>NaN</td>\n",
       "      <td>NaN</td>\n",
       "      <td>0.170000</td>\n",
       "      <td>0.000000</td>\n",
       "      <td>0.000000</td>\n",
       "      <td>NaN</td>\n",
       "      <td>0.000000</td>\n",
       "      <td>NaN</td>\n",
       "      <td>NaN</td>\n",
       "    </tr>\n",
       "    <tr>\n",
       "      <th>25%</th>\n",
       "      <td>996.250000</td>\n",
       "      <td>1.000000</td>\n",
       "      <td>NaN</td>\n",
       "      <td>NaN</td>\n",
       "      <td>21.000000</td>\n",
       "      <td>0.000000</td>\n",
       "      <td>0.000000</td>\n",
       "      <td>NaN</td>\n",
       "      <td>7.895800</td>\n",
       "      <td>NaN</td>\n",
       "      <td>NaN</td>\n",
       "    </tr>\n",
       "    <tr>\n",
       "      <th>50%</th>\n",
       "      <td>1100.500000</td>\n",
       "      <td>3.000000</td>\n",
       "      <td>NaN</td>\n",
       "      <td>NaN</td>\n",
       "      <td>27.000000</td>\n",
       "      <td>0.000000</td>\n",
       "      <td>0.000000</td>\n",
       "      <td>NaN</td>\n",
       "      <td>14.454200</td>\n",
       "      <td>NaN</td>\n",
       "      <td>NaN</td>\n",
       "    </tr>\n",
       "    <tr>\n",
       "      <th>75%</th>\n",
       "      <td>1204.750000</td>\n",
       "      <td>3.000000</td>\n",
       "      <td>NaN</td>\n",
       "      <td>NaN</td>\n",
       "      <td>39.000000</td>\n",
       "      <td>1.000000</td>\n",
       "      <td>0.000000</td>\n",
       "      <td>NaN</td>\n",
       "      <td>31.500000</td>\n",
       "      <td>NaN</td>\n",
       "      <td>NaN</td>\n",
       "    </tr>\n",
       "    <tr>\n",
       "      <th>max</th>\n",
       "      <td>1309.000000</td>\n",
       "      <td>3.000000</td>\n",
       "      <td>NaN</td>\n",
       "      <td>NaN</td>\n",
       "      <td>76.000000</td>\n",
       "      <td>8.000000</td>\n",
       "      <td>9.000000</td>\n",
       "      <td>NaN</td>\n",
       "      <td>512.329200</td>\n",
       "      <td>NaN</td>\n",
       "      <td>NaN</td>\n",
       "    </tr>\n",
       "  </tbody>\n",
       "</table>\n",
       "</div>"
      ],
      "text/plain": [
       "        PassengerId      Pclass                  Name   Sex         Age  \\\n",
       "count    418.000000  418.000000                   418   418  332.000000   \n",
       "unique          NaN         NaN                   418     2         NaN   \n",
       "top             NaN         NaN  Matinoff, Mr. Nicola  male         NaN   \n",
       "freq            NaN         NaN                     1   266         NaN   \n",
       "mean    1100.500000    2.265550                   NaN   NaN   30.272590   \n",
       "std      120.810458    0.841838                   NaN   NaN   14.181209   \n",
       "min      892.000000    1.000000                   NaN   NaN    0.170000   \n",
       "25%      996.250000    1.000000                   NaN   NaN   21.000000   \n",
       "50%     1100.500000    3.000000                   NaN   NaN   27.000000   \n",
       "75%     1204.750000    3.000000                   NaN   NaN   39.000000   \n",
       "max     1309.000000    3.000000                   NaN   NaN   76.000000   \n",
       "\n",
       "             SibSp       Parch    Ticket        Fare            Cabin Embarked  \n",
       "count   418.000000  418.000000       418  417.000000               91      418  \n",
       "unique         NaN         NaN       363         NaN               76        3  \n",
       "top            NaN         NaN  PC 17608         NaN  B57 B59 B63 B66        S  \n",
       "freq           NaN         NaN         5         NaN                3      270  \n",
       "mean      0.447368    0.392344       NaN   35.627188              NaN      NaN  \n",
       "std       0.896760    0.981429       NaN   55.907576              NaN      NaN  \n",
       "min       0.000000    0.000000       NaN    0.000000              NaN      NaN  \n",
       "25%       0.000000    0.000000       NaN    7.895800              NaN      NaN  \n",
       "50%       0.000000    0.000000       NaN   14.454200              NaN      NaN  \n",
       "75%       1.000000    0.000000       NaN   31.500000              NaN      NaN  \n",
       "max       8.000000    9.000000       NaN  512.329200              NaN      NaN  "
      ]
     },
     "execution_count": 5,
     "metadata": {},
     "output_type": "execute_result"
    }
   ],
   "source": [
    "test.describe(include='all')"
   ]
  },
  {
   "cell_type": "code",
   "execution_count": 6,
   "metadata": {
    "execution": {
     "iopub.execute_input": "2021-05-02T11:28:04.072755Z",
     "iopub.status.busy": "2021-05-02T11:28:04.071705Z",
     "iopub.status.idle": "2021-05-02T11:28:04.079056Z",
     "shell.execute_reply": "2021-05-02T11:28:04.078468Z"
    },
    "papermill": {
     "duration": 0.054167,
     "end_time": "2021-05-02T11:28:04.079170",
     "exception": false,
     "start_time": "2021-05-02T11:28:04.025003",
     "status": "completed"
    },
    "tags": []
   },
   "outputs": [
    {
     "name": "stdout",
     "output_type": "stream",
     "text": [
      "(891, 12) (418, 11)\n"
     ]
    }
   ],
   "source": [
    "print(train.shape,test.shape)"
   ]
  },
  {
   "cell_type": "code",
   "execution_count": 7,
   "metadata": {
    "execution": {
     "iopub.execute_input": "2021-05-02T11:28:04.172045Z",
     "iopub.status.busy": "2021-05-02T11:28:04.171345Z",
     "iopub.status.idle": "2021-05-02T11:28:04.180247Z",
     "shell.execute_reply": "2021-05-02T11:28:04.180752Z"
    },
    "papermill": {
     "duration": 0.05741,
     "end_time": "2021-05-02T11:28:04.180920",
     "exception": false,
     "start_time": "2021-05-02T11:28:04.123510",
     "status": "completed"
    },
    "tags": []
   },
   "outputs": [
    {
     "data": {
      "text/plain": [
       "Cabin          687\n",
       "Age            177\n",
       "Embarked         2\n",
       "Fare             0\n",
       "Ticket           0\n",
       "Parch            0\n",
       "SibSp            0\n",
       "Sex              0\n",
       "Name             0\n",
       "Pclass           0\n",
       "Survived         0\n",
       "PassengerId      0\n",
       "dtype: int64"
      ]
     },
     "execution_count": 7,
     "metadata": {},
     "output_type": "execute_result"
    }
   ],
   "source": [
    "\n",
    "train.isnull().sum().sort_values(ascending=False)"
   ]
  },
  {
   "cell_type": "code",
   "execution_count": 8,
   "metadata": {
    "execution": {
     "iopub.execute_input": "2021-05-02T11:28:04.272783Z",
     "iopub.status.busy": "2021-05-02T11:28:04.272094Z",
     "iopub.status.idle": "2021-05-02T11:28:04.282429Z",
     "shell.execute_reply": "2021-05-02T11:28:04.281787Z"
    },
    "papermill": {
     "duration": 0.057436,
     "end_time": "2021-05-02T11:28:04.282574",
     "exception": false,
     "start_time": "2021-05-02T11:28:04.225138",
     "status": "completed"
    },
    "tags": []
   },
   "outputs": [
    {
     "data": {
      "text/plain": [
       "Cabin          327\n",
       "Age             86\n",
       "Fare             1\n",
       "Embarked         0\n",
       "Ticket           0\n",
       "Parch            0\n",
       "SibSp            0\n",
       "Sex              0\n",
       "Name             0\n",
       "Pclass           0\n",
       "PassengerId      0\n",
       "dtype: int64"
      ]
     },
     "execution_count": 8,
     "metadata": {},
     "output_type": "execute_result"
    }
   ],
   "source": [
    "test.isnull().sum().sort_values(ascending=False)"
   ]
  },
  {
   "cell_type": "code",
   "execution_count": 9,
   "metadata": {
    "execution": {
     "iopub.execute_input": "2021-05-02T11:28:04.378219Z",
     "iopub.status.busy": "2021-05-02T11:28:04.377141Z",
     "iopub.status.idle": "2021-05-02T11:28:04.380566Z",
     "shell.execute_reply": "2021-05-02T11:28:04.381119Z"
    },
    "papermill": {
     "duration": 0.053538,
     "end_time": "2021-05-02T11:28:04.381270",
     "exception": false,
     "start_time": "2021-05-02T11:28:04.327732",
     "status": "completed"
    },
    "tags": []
   },
   "outputs": [
    {
     "name": "stdout",
     "output_type": "stream",
     "text": [
      "(418, 11)\n"
     ]
    }
   ],
   "source": [
    "print(test.shape)"
   ]
  },
  {
   "cell_type": "code",
   "execution_count": 10,
   "metadata": {
    "execution": {
     "iopub.execute_input": "2021-05-02T11:28:04.488217Z",
     "iopub.status.busy": "2021-05-02T11:28:04.487531Z",
     "iopub.status.idle": "2021-05-02T11:28:04.492415Z",
     "shell.execute_reply": "2021-05-02T11:28:04.491723Z"
    },
    "papermill": {
     "duration": 0.066749,
     "end_time": "2021-05-02T11:28:04.492543",
     "exception": false,
     "start_time": "2021-05-02T11:28:04.425794",
     "status": "completed"
    },
    "tags": []
   },
   "outputs": [
    {
     "data": {
      "text/html": [
       "<div>\n",
       "<style scoped>\n",
       "    .dataframe tbody tr th:only-of-type {\n",
       "        vertical-align: middle;\n",
       "    }\n",
       "\n",
       "    .dataframe tbody tr th {\n",
       "        vertical-align: top;\n",
       "    }\n",
       "\n",
       "    .dataframe thead th {\n",
       "        text-align: right;\n",
       "    }\n",
       "</style>\n",
       "<table border=\"1\" class=\"dataframe\">\n",
       "  <thead>\n",
       "    <tr style=\"text-align: right;\">\n",
       "      <th></th>\n",
       "      <th>PassengerId</th>\n",
       "      <th>Pclass</th>\n",
       "      <th>Name</th>\n",
       "      <th>Sex</th>\n",
       "      <th>Age</th>\n",
       "      <th>SibSp</th>\n",
       "      <th>Parch</th>\n",
       "      <th>Ticket</th>\n",
       "      <th>Fare</th>\n",
       "      <th>Cabin</th>\n",
       "      <th>Embarked</th>\n",
       "    </tr>\n",
       "  </thead>\n",
       "  <tbody>\n",
       "    <tr>\n",
       "      <th>0</th>\n",
       "      <td>892</td>\n",
       "      <td>3</td>\n",
       "      <td>Kelly, Mr. James</td>\n",
       "      <td>male</td>\n",
       "      <td>34.5</td>\n",
       "      <td>0</td>\n",
       "      <td>0</td>\n",
       "      <td>330911</td>\n",
       "      <td>7.8292</td>\n",
       "      <td>NaN</td>\n",
       "      <td>Q</td>\n",
       "    </tr>\n",
       "    <tr>\n",
       "      <th>1</th>\n",
       "      <td>893</td>\n",
       "      <td>3</td>\n",
       "      <td>Wilkes, Mrs. James (Ellen Needs)</td>\n",
       "      <td>female</td>\n",
       "      <td>47.0</td>\n",
       "      <td>1</td>\n",
       "      <td>0</td>\n",
       "      <td>363272</td>\n",
       "      <td>7.0000</td>\n",
       "      <td>NaN</td>\n",
       "      <td>S</td>\n",
       "    </tr>\n",
       "    <tr>\n",
       "      <th>2</th>\n",
       "      <td>894</td>\n",
       "      <td>2</td>\n",
       "      <td>Myles, Mr. Thomas Francis</td>\n",
       "      <td>male</td>\n",
       "      <td>62.0</td>\n",
       "      <td>0</td>\n",
       "      <td>0</td>\n",
       "      <td>240276</td>\n",
       "      <td>9.6875</td>\n",
       "      <td>NaN</td>\n",
       "      <td>Q</td>\n",
       "    </tr>\n",
       "    <tr>\n",
       "      <th>3</th>\n",
       "      <td>895</td>\n",
       "      <td>3</td>\n",
       "      <td>Wirz, Mr. Albert</td>\n",
       "      <td>male</td>\n",
       "      <td>27.0</td>\n",
       "      <td>0</td>\n",
       "      <td>0</td>\n",
       "      <td>315154</td>\n",
       "      <td>8.6625</td>\n",
       "      <td>NaN</td>\n",
       "      <td>S</td>\n",
       "    </tr>\n",
       "    <tr>\n",
       "      <th>4</th>\n",
       "      <td>896</td>\n",
       "      <td>3</td>\n",
       "      <td>Hirvonen, Mrs. Alexander (Helga E Lindqvist)</td>\n",
       "      <td>female</td>\n",
       "      <td>22.0</td>\n",
       "      <td>1</td>\n",
       "      <td>1</td>\n",
       "      <td>3101298</td>\n",
       "      <td>12.2875</td>\n",
       "      <td>NaN</td>\n",
       "      <td>S</td>\n",
       "    </tr>\n",
       "  </tbody>\n",
       "</table>\n",
       "</div>"
      ],
      "text/plain": [
       "   PassengerId  Pclass                                          Name     Sex  \\\n",
       "0          892       3                              Kelly, Mr. James    male   \n",
       "1          893       3              Wilkes, Mrs. James (Ellen Needs)  female   \n",
       "2          894       2                     Myles, Mr. Thomas Francis    male   \n",
       "3          895       3                              Wirz, Mr. Albert    male   \n",
       "4          896       3  Hirvonen, Mrs. Alexander (Helga E Lindqvist)  female   \n",
       "\n",
       "    Age  SibSp  Parch   Ticket     Fare Cabin Embarked  \n",
       "0  34.5      0      0   330911   7.8292   NaN        Q  \n",
       "1  47.0      1      0   363272   7.0000   NaN        S  \n",
       "2  62.0      0      0   240276   9.6875   NaN        Q  \n",
       "3  27.0      0      0   315154   8.6625   NaN        S  \n",
       "4  22.0      1      1  3101298  12.2875   NaN        S  "
      ]
     },
     "execution_count": 10,
     "metadata": {},
     "output_type": "execute_result"
    }
   ],
   "source": [
    "test.head()"
   ]
  },
  {
   "cell_type": "code",
   "execution_count": 11,
   "metadata": {
    "execution": {
     "iopub.execute_input": "2021-05-02T11:28:04.587735Z",
     "iopub.status.busy": "2021-05-02T11:28:04.587000Z",
     "iopub.status.idle": "2021-05-02T11:28:04.591196Z",
     "shell.execute_reply": "2021-05-02T11:28:04.591766Z"
    },
    "papermill": {
     "duration": 0.053969,
     "end_time": "2021-05-02T11:28:04.591919",
     "exception": false,
     "start_time": "2021-05-02T11:28:04.537950",
     "status": "completed"
    },
    "tags": []
   },
   "outputs": [],
   "source": [
    "pid=test['PassengerId']"
   ]
  },
  {
   "cell_type": "code",
   "execution_count": 12,
   "metadata": {
    "execution": {
     "iopub.execute_input": "2021-05-02T11:28:04.685521Z",
     "iopub.status.busy": "2021-05-02T11:28:04.684831Z",
     "iopub.status.idle": "2021-05-02T11:28:04.701918Z",
     "shell.execute_reply": "2021-05-02T11:28:04.702499Z"
    },
    "papermill": {
     "duration": 0.065616,
     "end_time": "2021-05-02T11:28:04.702653",
     "exception": false,
     "start_time": "2021-05-02T11:28:04.637037",
     "status": "completed"
    },
    "tags": []
   },
   "outputs": [
    {
     "data": {
      "text/plain": [
       "(1309, 11)"
      ]
     },
     "execution_count": 12,
     "metadata": {},
     "output_type": "execute_result"
    }
   ],
   "source": [
    "train = train.set_index(\"PassengerId\")\n",
    "test = test.set_index(\"PassengerId\")\n",
    "\n",
    "# dataframe \n",
    "combine = pd.concat([train, test], axis=0, sort=False)\n",
    "combine.shape"
   ]
  },
  {
   "cell_type": "code",
   "execution_count": 13,
   "metadata": {
    "execution": {
     "iopub.execute_input": "2021-05-02T11:28:04.803087Z",
     "iopub.status.busy": "2021-05-02T11:28:04.801708Z",
     "iopub.status.idle": "2021-05-02T11:28:04.805020Z",
     "shell.execute_reply": "2021-05-02T11:28:04.804179Z"
    },
    "papermill": {
     "duration": 0.056426,
     "end_time": "2021-05-02T11:28:04.805145",
     "exception": false,
     "start_time": "2021-05-02T11:28:04.748719",
     "status": "completed"
    },
    "tags": []
   },
   "outputs": [],
   "source": [
    "y=train['Survived']\n"
   ]
  },
  {
   "cell_type": "code",
   "execution_count": 14,
   "metadata": {
    "execution": {
     "iopub.execute_input": "2021-05-02T11:28:04.911005Z",
     "iopub.status.busy": "2021-05-02T11:28:04.909598Z",
     "iopub.status.idle": "2021-05-02T11:28:04.914223Z",
     "shell.execute_reply": "2021-05-02T11:28:04.914719Z"
    },
    "papermill": {
     "duration": 0.061977,
     "end_time": "2021-05-02T11:28:04.914889",
     "exception": false,
     "start_time": "2021-05-02T11:28:04.852912",
     "status": "completed"
    },
    "tags": []
   },
   "outputs": [
    {
     "data": {
      "text/plain": [
       "Cabin       1014\n",
       "Survived     418\n",
       "Age          263\n",
       "Embarked       2\n",
       "Fare           1\n",
       "Ticket         0\n",
       "Parch          0\n",
       "SibSp          0\n",
       "Sex            0\n",
       "Name           0\n",
       "Pclass         0\n",
       "dtype: int64"
      ]
     },
     "execution_count": 14,
     "metadata": {},
     "output_type": "execute_result"
    }
   ],
   "source": [
    "combine.isnull().sum().sort_values(ascending=False)"
   ]
  },
  {
   "cell_type": "markdown",
   "metadata": {
    "papermill": {
     "duration": 0.047683,
     "end_time": "2021-05-02T11:28:05.010315",
     "exception": false,
     "start_time": "2021-05-02T11:28:04.962632",
     "status": "completed"
    },
    "tags": []
   },
   "source": []
  },
  {
   "cell_type": "markdown",
   "metadata": {
    "papermill": {
     "duration": 0.047183,
     "end_time": "2021-05-02T11:28:05.106824",
     "exception": false,
     "start_time": "2021-05-02T11:28:05.059641",
     "status": "completed"
    },
    "tags": []
   },
   "source": [
    "# **CABIN ,TICKET**"
   ]
  },
  {
   "cell_type": "code",
   "execution_count": 15,
   "metadata": {
    "execution": {
     "iopub.execute_input": "2021-05-02T11:28:05.216845Z",
     "iopub.status.busy": "2021-05-02T11:28:05.215797Z",
     "iopub.status.idle": "2021-05-02T11:28:05.226002Z",
     "shell.execute_reply": "2021-05-02T11:28:05.226834Z"
    },
    "papermill": {
     "duration": 0.073425,
     "end_time": "2021-05-02T11:28:05.227068",
     "exception": false,
     "start_time": "2021-05-02T11:28:05.153643",
     "status": "completed"
    },
    "tags": []
   },
   "outputs": [],
   "source": [
    "\n",
    "combine.drop(['Cabin'],axis=1,inplace=True)"
   ]
  },
  {
   "cell_type": "code",
   "execution_count": 16,
   "metadata": {
    "execution": {
     "iopub.execute_input": "2021-05-02T11:28:05.333612Z",
     "iopub.status.busy": "2021-05-02T11:28:05.332851Z",
     "iopub.status.idle": "2021-05-02T11:28:05.342871Z",
     "shell.execute_reply": "2021-05-02T11:28:05.343590Z"
    },
    "papermill": {
     "duration": 0.060039,
     "end_time": "2021-05-02T11:28:05.343753",
     "exception": false,
     "start_time": "2021-05-02T11:28:05.283714",
     "status": "completed"
    },
    "tags": []
   },
   "outputs": [],
   "source": [
    "combine['Ticket'] = combine.Ticket.str.split().apply(lambda x : 0 if x[:][-1] == 'LINE' else x[:][-1])\n",
    "combine.Ticket = combine.Ticket.values.astype('int64')"
   ]
  },
  {
   "cell_type": "markdown",
   "metadata": {
    "papermill": {
     "duration": 0.04671,
     "end_time": "2021-05-02T11:28:05.437116",
     "exception": false,
     "start_time": "2021-05-02T11:28:05.390406",
     "status": "completed"
    },
    "tags": []
   },
   "source": [
    "# **SEX**"
   ]
  },
  {
   "cell_type": "code",
   "execution_count": 17,
   "metadata": {
    "execution": {
     "iopub.execute_input": "2021-05-02T11:28:05.533081Z",
     "iopub.status.busy": "2021-05-02T11:28:05.532389Z",
     "iopub.status.idle": "2021-05-02T11:28:05.538872Z",
     "shell.execute_reply": "2021-05-02T11:28:05.539475Z"
    },
    "papermill": {
     "duration": 0.056222,
     "end_time": "2021-05-02T11:28:05.539628",
     "exception": false,
     "start_time": "2021-05-02T11:28:05.483406",
     "status": "completed"
    },
    "tags": []
   },
   "outputs": [],
   "source": [
    "change = {'female':0,'male':1}\n",
    "combine.Sex = combine.Sex.map(change)"
   ]
  },
  {
   "cell_type": "markdown",
   "metadata": {
    "papermill": {
     "duration": 0.046065,
     "end_time": "2021-05-02T11:28:05.632942",
     "exception": false,
     "start_time": "2021-05-02T11:28:05.586877",
     "status": "completed"
    },
    "tags": []
   },
   "source": [
    "# **EMBARKED**"
   ]
  },
  {
   "cell_type": "code",
   "execution_count": 18,
   "metadata": {
    "execution": {
     "iopub.execute_input": "2021-05-02T11:28:05.729514Z",
     "iopub.status.busy": "2021-05-02T11:28:05.728859Z",
     "iopub.status.idle": "2021-05-02T11:28:05.736684Z",
     "shell.execute_reply": "2021-05-02T11:28:05.737234Z"
    },
    "papermill": {
     "duration": 0.057589,
     "end_time": "2021-05-02T11:28:05.737397",
     "exception": false,
     "start_time": "2021-05-02T11:28:05.679808",
     "status": "completed"
    },
    "tags": []
   },
   "outputs": [
    {
     "data": {
      "text/plain": [
       "S    914\n",
       "C    270\n",
       "Q    123\n",
       "Name: Embarked, dtype: int64"
      ]
     },
     "execution_count": 18,
     "metadata": {},
     "output_type": "execute_result"
    }
   ],
   "source": [
    "combine['Embarked'].value_counts()"
   ]
  },
  {
   "cell_type": "code",
   "execution_count": 19,
   "metadata": {
    "execution": {
     "iopub.execute_input": "2021-05-02T11:28:05.840971Z",
     "iopub.status.busy": "2021-05-02T11:28:05.840227Z",
     "iopub.status.idle": "2021-05-02T11:28:05.842321Z",
     "shell.execute_reply": "2021-05-02T11:28:05.842821Z"
    },
    "papermill": {
     "duration": 0.058115,
     "end_time": "2021-05-02T11:28:05.843040",
     "exception": false,
     "start_time": "2021-05-02T11:28:05.784925",
     "status": "completed"
    },
    "tags": []
   },
   "outputs": [],
   "source": [
    "combine['Embarked'].fillna('S',inplace=True)"
   ]
  },
  {
   "cell_type": "code",
   "execution_count": 20,
   "metadata": {
    "execution": {
     "iopub.execute_input": "2021-05-02T11:28:05.943043Z",
     "iopub.status.busy": "2021-05-02T11:28:05.942335Z",
     "iopub.status.idle": "2021-05-02T11:28:05.949665Z",
     "shell.execute_reply": "2021-05-02T11:28:05.949102Z"
    },
    "papermill": {
     "duration": 0.058692,
     "end_time": "2021-05-02T11:28:05.949790",
     "exception": false,
     "start_time": "2021-05-02T11:28:05.891098",
     "status": "completed"
    },
    "tags": []
   },
   "outputs": [],
   "source": [
    "change = {'S':0,'C':1,'Q':2}\n",
    "combine.Embarked = combine.Embarked.map(change)"
   ]
  },
  {
   "cell_type": "markdown",
   "metadata": {
    "papermill": {
     "duration": 0.046623,
     "end_time": "2021-05-02T11:28:06.043785",
     "exception": false,
     "start_time": "2021-05-02T11:28:05.997162",
     "status": "completed"
    },
    "tags": []
   },
   "source": []
  },
  {
   "cell_type": "markdown",
   "metadata": {
    "papermill": {
     "duration": 0.047529,
     "end_time": "2021-05-02T11:28:06.139966",
     "exception": false,
     "start_time": "2021-05-02T11:28:06.092437",
     "status": "completed"
    },
    "tags": []
   },
   "source": [
    "# **FARE**"
   ]
  },
  {
   "cell_type": "code",
   "execution_count": 21,
   "metadata": {
    "execution": {
     "iopub.execute_input": "2021-05-02T11:28:06.245201Z",
     "iopub.status.busy": "2021-05-02T11:28:06.243888Z",
     "iopub.status.idle": "2021-05-02T11:28:06.250677Z",
     "shell.execute_reply": "2021-05-02T11:28:06.251210Z"
    },
    "papermill": {
     "duration": 0.063696,
     "end_time": "2021-05-02T11:28:06.251376",
     "exception": false,
     "start_time": "2021-05-02T11:28:06.187680",
     "status": "completed"
    },
    "tags": []
   },
   "outputs": [
    {
     "data": {
      "text/plain": [
       "8.0500     60\n",
       "13.0000    59\n",
       "7.7500     55\n",
       "26.0000    50\n",
       "7.8958     49\n",
       "           ..\n",
       "33.5000     1\n",
       "7.8000      1\n",
       "26.3875     1\n",
       "15.5792     1\n",
       "7.1417      1\n",
       "Name: Fare, Length: 281, dtype: int64"
      ]
     },
     "execution_count": 21,
     "metadata": {},
     "output_type": "execute_result"
    }
   ],
   "source": [
    "combine['Fare'].value_counts()"
   ]
  },
  {
   "cell_type": "code",
   "execution_count": 22,
   "metadata": {
    "execution": {
     "iopub.execute_input": "2021-05-02T11:28:06.351257Z",
     "iopub.status.busy": "2021-05-02T11:28:06.350227Z",
     "iopub.status.idle": "2021-05-02T11:28:06.364790Z",
     "shell.execute_reply": "2021-05-02T11:28:06.364204Z"
    },
    "papermill": {
     "duration": 0.065539,
     "end_time": "2021-05-02T11:28:06.364931",
     "exception": false,
     "start_time": "2021-05-02T11:28:06.299392",
     "status": "completed"
    },
    "tags": []
   },
   "outputs": [],
   "source": [
    "combine['Fare'].fillna(combine['Fare'].mean(),inplace=True)\n",
    "auxfare = pd.cut(combine['Fare'],5)"
   ]
  },
  {
   "cell_type": "code",
   "execution_count": 23,
   "metadata": {
    "execution": {
     "iopub.execute_input": "2021-05-02T11:28:06.474894Z",
     "iopub.status.busy": "2021-05-02T11:28:06.472033Z",
     "iopub.status.idle": "2021-05-02T11:28:06.478265Z",
     "shell.execute_reply": "2021-05-02T11:28:06.477564Z"
    },
    "papermill": {
     "duration": 0.065606,
     "end_time": "2021-05-02T11:28:06.478401",
     "exception": false,
     "start_time": "2021-05-02T11:28:06.412795",
     "status": "completed"
    },
    "tags": []
   },
   "outputs": [],
   "source": [
    "combine['Fare'] = LabelEncoder().fit_transform(auxfare) \n"
   ]
  },
  {
   "cell_type": "code",
   "execution_count": 24,
   "metadata": {
    "execution": {
     "iopub.execute_input": "2021-05-02T11:28:06.593861Z",
     "iopub.status.busy": "2021-05-02T11:28:06.587984Z",
     "iopub.status.idle": "2021-05-02T11:28:06.615247Z",
     "shell.execute_reply": "2021-05-02T11:28:06.614483Z"
    },
    "papermill": {
     "duration": 0.087251,
     "end_time": "2021-05-02T11:28:06.615397",
     "exception": false,
     "start_time": "2021-05-02T11:28:06.528146",
     "status": "completed"
    },
    "tags": []
   },
   "outputs": [
    {
     "data": {
      "text/html": [
       "<div>\n",
       "<style scoped>\n",
       "    .dataframe tbody tr th:only-of-type {\n",
       "        vertical-align: middle;\n",
       "    }\n",
       "\n",
       "    .dataframe tbody tr th {\n",
       "        vertical-align: top;\n",
       "    }\n",
       "\n",
       "    .dataframe thead th {\n",
       "        text-align: right;\n",
       "    }\n",
       "</style>\n",
       "<table border=\"1\" class=\"dataframe\">\n",
       "  <thead>\n",
       "    <tr style=\"text-align: right;\">\n",
       "      <th>Survived</th>\n",
       "      <th>0.0</th>\n",
       "      <th>1.0</th>\n",
       "    </tr>\n",
       "    <tr>\n",
       "      <th>Fare</th>\n",
       "      <th></th>\n",
       "      <th></th>\n",
       "    </tr>\n",
       "  </thead>\n",
       "  <tbody>\n",
       "    <tr>\n",
       "      <th>0</th>\n",
       "      <td>535</td>\n",
       "      <td>303</td>\n",
       "    </tr>\n",
       "    <tr>\n",
       "      <th>1</th>\n",
       "      <td>8</td>\n",
       "      <td>25</td>\n",
       "    </tr>\n",
       "    <tr>\n",
       "      <th>2</th>\n",
       "      <td>6</td>\n",
       "      <td>11</td>\n",
       "    </tr>\n",
       "    <tr>\n",
       "      <th>3</th>\n",
       "      <td>0</td>\n",
       "      <td>3</td>\n",
       "    </tr>\n",
       "  </tbody>\n",
       "</table>\n",
       "</div>"
      ],
      "text/plain": [
       "Survived  0.0  1.0\n",
       "Fare              \n",
       "0         535  303\n",
       "1           8   25\n",
       "2           6   11\n",
       "3           0    3"
      ]
     },
     "execution_count": 24,
     "metadata": {},
     "output_type": "execute_result"
    }
   ],
   "source": [
    "pd.crosstab(combine['Fare'], combine['Survived'])"
   ]
  },
  {
   "cell_type": "markdown",
   "metadata": {
    "papermill": {
     "duration": 0.048997,
     "end_time": "2021-05-02T11:28:06.713882",
     "exception": false,
     "start_time": "2021-05-02T11:28:06.664885",
     "status": "completed"
    },
    "tags": []
   },
   "source": [
    "# **AGE**"
   ]
  },
  {
   "cell_type": "code",
   "execution_count": 25,
   "metadata": {
    "execution": {
     "iopub.execute_input": "2021-05-02T11:28:06.817666Z",
     "iopub.status.busy": "2021-05-02T11:28:06.816994Z",
     "iopub.status.idle": "2021-05-02T11:28:07.152894Z",
     "shell.execute_reply": "2021-05-02T11:28:07.152146Z"
    },
    "papermill": {
     "duration": 0.390418,
     "end_time": "2021-05-02T11:28:07.153018",
     "exception": false,
     "start_time": "2021-05-02T11:28:06.762600",
     "status": "completed"
    },
    "tags": []
   },
   "outputs": [
    {
     "data": {
      "image/png": "[encoded data removed]",
      "text/plain": [
       "<Figure size 576x432 with 2 Axes>"
      ]
     },
     "metadata": {
      "needs_background": "light"
     },
     "output_type": "display_data"
    }
   ],
   "source": [
    "corr_df = combine.corr()\n",
    "fig, axs = plt.subplots(figsize=(8, 6))\n",
    "sns.heatmap(corr_df).set_title(\"Correlation Map\",fontdict= { 'fontsize': 20, 'fontweight':'bold'});"
   ]
  },
  {
   "cell_type": "code",
   "execution_count": 26,
   "metadata": {
    "execution": {
     "iopub.execute_input": "2021-05-02T11:28:07.271700Z",
     "iopub.status.busy": "2021-05-02T11:28:07.270782Z",
     "iopub.status.idle": "2021-05-02T11:28:07.285384Z",
     "shell.execute_reply": "2021-05-02T11:28:07.284796Z"
    },
    "papermill": {
     "duration": 0.072565,
     "end_time": "2021-05-02T11:28:07.285501",
     "exception": false,
     "start_time": "2021-05-02T11:28:07.212936",
     "status": "completed"
    },
    "tags": []
   },
   "outputs": [
    {
     "data": {
      "text/plain": [
       "Pclass  Sex  Survived\n",
       "1       0    0.0         25.0\n",
       "             1.0         35.0\n",
       "        1    0.0         45.5\n",
       "             1.0         36.0\n",
       "2       0    0.0         32.5\n",
       "             1.0         28.0\n",
       "        1    0.0         30.5\n",
       "             1.0          3.0\n",
       "3       0    0.0         22.0\n",
       "             1.0         19.0\n",
       "        1    0.0         25.0\n",
       "             1.0         25.0\n",
       "Name: Age, dtype: float64"
      ]
     },
     "execution_count": 26,
     "metadata": {},
     "output_type": "execute_result"
    }
   ],
   "source": [
    "combine.groupby(['Pclass','Sex','Survived'])['Age'].median()"
   ]
  },
  {
   "cell_type": "code",
   "execution_count": 27,
   "metadata": {
    "execution": {
     "iopub.execute_input": "2021-05-02T11:28:07.394303Z",
     "iopub.status.busy": "2021-05-02T11:28:07.393504Z",
     "iopub.status.idle": "2021-05-02T11:28:07.401125Z",
     "shell.execute_reply": "2021-05-02T11:28:07.400406Z"
    },
    "papermill": {
     "duration": 0.065422,
     "end_time": "2021-05-02T11:28:07.401241",
     "exception": false,
     "start_time": "2021-05-02T11:28:07.335819",
     "status": "completed"
    },
    "tags": []
   },
   "outputs": [],
   "source": [
    "combine[\"Age\"].fillna(combine.groupby(['Pclass','Sex'])['Age'].transform(\"mean\"), inplace=True)"
   ]
  },
  {
   "cell_type": "code",
   "execution_count": 28,
   "metadata": {
    "execution": {
     "iopub.execute_input": "2021-05-02T11:28:07.512227Z",
     "iopub.status.busy": "2021-05-02T11:28:07.511153Z",
     "iopub.status.idle": "2021-05-02T11:28:07.525452Z",
     "shell.execute_reply": "2021-05-02T11:28:07.524828Z"
    },
    "papermill": {
     "duration": 0.073771,
     "end_time": "2021-05-02T11:28:07.525589",
     "exception": false,
     "start_time": "2021-05-02T11:28:07.451818",
     "status": "completed"
    },
    "tags": []
   },
   "outputs": [],
   "source": [
    "auxage = pd.cut(combine['Age'], 4)\n",
    "combine['Age'] = LabelEncoder().fit_transform(auxage) "
   ]
  },
  {
   "cell_type": "code",
   "execution_count": 29,
   "metadata": {
    "execution": {
     "iopub.execute_input": "2021-05-02T11:28:07.644908Z",
     "iopub.status.busy": "2021-05-02T11:28:07.642013Z",
     "iopub.status.idle": "2021-05-02T11:28:07.654607Z",
     "shell.execute_reply": "2021-05-02T11:28:07.653900Z"
    },
    "papermill": {
     "duration": 0.077797,
     "end_time": "2021-05-02T11:28:07.654729",
     "exception": false,
     "start_time": "2021-05-02T11:28:07.576932",
     "status": "completed"
    },
    "tags": []
   },
   "outputs": [
    {
     "data": {
      "text/html": [
       "<div>\n",
       "<style scoped>\n",
       "    .dataframe tbody tr th:only-of-type {\n",
       "        vertical-align: middle;\n",
       "    }\n",
       "\n",
       "    .dataframe tbody tr th {\n",
       "        vertical-align: top;\n",
       "    }\n",
       "\n",
       "    .dataframe thead th {\n",
       "        text-align: right;\n",
       "    }\n",
       "</style>\n",
       "<table border=\"1\" class=\"dataframe\">\n",
       "  <thead>\n",
       "    <tr style=\"text-align: right;\">\n",
       "      <th>Survived</th>\n",
       "      <th>0.0</th>\n",
       "      <th>1.0</th>\n",
       "    </tr>\n",
       "    <tr>\n",
       "      <th>Age</th>\n",
       "      <th></th>\n",
       "      <th></th>\n",
       "    </tr>\n",
       "  </thead>\n",
       "  <tbody>\n",
       "    <tr>\n",
       "      <th>0</th>\n",
       "      <td>97</td>\n",
       "      <td>82</td>\n",
       "    </tr>\n",
       "    <tr>\n",
       "      <th>1</th>\n",
       "      <td>341</td>\n",
       "      <td>200</td>\n",
       "    </tr>\n",
       "    <tr>\n",
       "      <th>2</th>\n",
       "      <td>94</td>\n",
       "      <td>55</td>\n",
       "    </tr>\n",
       "    <tr>\n",
       "      <th>3</th>\n",
       "      <td>17</td>\n",
       "      <td>5</td>\n",
       "    </tr>\n",
       "  </tbody>\n",
       "</table>\n",
       "</div>"
      ],
      "text/plain": [
       "Survived  0.0  1.0\n",
       "Age               \n",
       "0          97   82\n",
       "1         341  200\n",
       "2          94   55\n",
       "3          17    5"
      ]
     },
     "execution_count": 29,
     "metadata": {},
     "output_type": "execute_result"
    }
   ],
   "source": [
    "pd.crosstab(combine['Age'], combine['Survived'])"
   ]
  },
  {
   "cell_type": "markdown",
   "metadata": {
    "papermill": {
     "duration": 0.05175,
     "end_time": "2021-05-02T11:28:07.757912",
     "exception": false,
     "start_time": "2021-05-02T11:28:07.706162",
     "status": "completed"
    },
    "tags": []
   },
   "source": [
    "# **SIBSP , PARCH**"
   ]
  },
  {
   "cell_type": "code",
   "execution_count": 30,
   "metadata": {
    "execution": {
     "iopub.execute_input": "2021-05-02T11:28:07.865094Z",
     "iopub.status.busy": "2021-05-02T11:28:07.864264Z",
     "iopub.status.idle": "2021-05-02T11:28:07.872373Z",
     "shell.execute_reply": "2021-05-02T11:28:07.872919Z"
    },
    "papermill": {
     "duration": 0.063349,
     "end_time": "2021-05-02T11:28:07.873070",
     "exception": false,
     "start_time": "2021-05-02T11:28:07.809721",
     "status": "completed"
    },
    "tags": []
   },
   "outputs": [],
   "source": [
    "combine['FamilySize']=combine['SibSp']+combine['Parch']+1\n",
    "combine.drop(['SibSp','Parch'], axis = 1, inplace = True)\n"
   ]
  },
  {
   "cell_type": "code",
   "execution_count": 31,
   "metadata": {
    "execution": {
     "iopub.execute_input": "2021-05-02T11:28:08.029005Z",
     "iopub.status.busy": "2021-05-02T11:28:08.028230Z",
     "iopub.status.idle": "2021-05-02T11:28:08.039407Z",
     "shell.execute_reply": "2021-05-02T11:28:08.039972Z"
    },
    "papermill": {
     "duration": 0.115658,
     "end_time": "2021-05-02T11:28:08.040121",
     "exception": false,
     "start_time": "2021-05-02T11:28:07.924463",
     "status": "completed"
    },
    "tags": []
   },
   "outputs": [],
   "source": [
    "combine.loc[combine['FamilySize'] == 1, 'FamilySize'] = 0                           \n",
    "combine.loc[(combine['FamilySize'] > 1) & (combine['FamilySize'] <= 4), 'FamilySize'] = 1 \n",
    "combine.loc[(combine['FamilySize'] > 4) & (combine['FamilySize'] <= 6), 'FamilySize'] = 2  \n",
    "combine.loc[combine['FamilySize']  > 6, 'FamilySize'] = 3  "
   ]
  },
  {
   "cell_type": "markdown",
   "metadata": {
    "papermill": {
     "duration": 0.052796,
     "end_time": "2021-05-02T11:28:08.145999",
     "exception": false,
     "start_time": "2021-05-02T11:28:08.093203",
     "status": "completed"
    },
    "tags": []
   },
   "source": [
    "# **TITLE**"
   ]
  },
  {
   "cell_type": "code",
   "execution_count": 32,
   "metadata": {
    "execution": {
     "iopub.execute_input": "2021-05-02T11:28:08.254849Z",
     "iopub.status.busy": "2021-05-02T11:28:08.254162Z",
     "iopub.status.idle": "2021-05-02T11:28:08.285538Z",
     "shell.execute_reply": "2021-05-02T11:28:08.284793Z"
    },
    "papermill": {
     "duration": 0.087001,
     "end_time": "2021-05-02T11:28:08.285662",
     "exception": false,
     "start_time": "2021-05-02T11:28:08.198661",
     "status": "completed"
    },
    "tags": []
   },
   "outputs": [
    {
     "data": {
      "text/html": [
       "<div>\n",
       "<style scoped>\n",
       "    .dataframe tbody tr th:only-of-type {\n",
       "        vertical-align: middle;\n",
       "    }\n",
       "\n",
       "    .dataframe tbody tr th {\n",
       "        vertical-align: top;\n",
       "    }\n",
       "\n",
       "    .dataframe thead th {\n",
       "        text-align: right;\n",
       "    }\n",
       "</style>\n",
       "<table border=\"1\" class=\"dataframe\">\n",
       "  <thead>\n",
       "    <tr style=\"text-align: right;\">\n",
       "      <th>Sex</th>\n",
       "      <th>0</th>\n",
       "      <th>1</th>\n",
       "    </tr>\n",
       "    <tr>\n",
       "      <th>Title</th>\n",
       "      <th></th>\n",
       "      <th></th>\n",
       "    </tr>\n",
       "  </thead>\n",
       "  <tbody>\n",
       "    <tr>\n",
       "      <th>Capt</th>\n",
       "      <td>0</td>\n",
       "      <td>1</td>\n",
       "    </tr>\n",
       "    <tr>\n",
       "      <th>Col</th>\n",
       "      <td>0</td>\n",
       "      <td>4</td>\n",
       "    </tr>\n",
       "    <tr>\n",
       "      <th>Countess</th>\n",
       "      <td>1</td>\n",
       "      <td>0</td>\n",
       "    </tr>\n",
       "    <tr>\n",
       "      <th>Don</th>\n",
       "      <td>0</td>\n",
       "      <td>1</td>\n",
       "    </tr>\n",
       "    <tr>\n",
       "      <th>Dona</th>\n",
       "      <td>1</td>\n",
       "      <td>0</td>\n",
       "    </tr>\n",
       "    <tr>\n",
       "      <th>Dr</th>\n",
       "      <td>1</td>\n",
       "      <td>7</td>\n",
       "    </tr>\n",
       "    <tr>\n",
       "      <th>Jonkheer</th>\n",
       "      <td>0</td>\n",
       "      <td>1</td>\n",
       "    </tr>\n",
       "    <tr>\n",
       "      <th>Lady</th>\n",
       "      <td>1</td>\n",
       "      <td>0</td>\n",
       "    </tr>\n",
       "    <tr>\n",
       "      <th>Major</th>\n",
       "      <td>0</td>\n",
       "      <td>2</td>\n",
       "    </tr>\n",
       "    <tr>\n",
       "      <th>Master</th>\n",
       "      <td>0</td>\n",
       "      <td>61</td>\n",
       "    </tr>\n",
       "    <tr>\n",
       "      <th>Miss</th>\n",
       "      <td>260</td>\n",
       "      <td>0</td>\n",
       "    </tr>\n",
       "    <tr>\n",
       "      <th>Mlle</th>\n",
       "      <td>2</td>\n",
       "      <td>0</td>\n",
       "    </tr>\n",
       "    <tr>\n",
       "      <th>Mme</th>\n",
       "      <td>1</td>\n",
       "      <td>0</td>\n",
       "    </tr>\n",
       "    <tr>\n",
       "      <th>Mr</th>\n",
       "      <td>0</td>\n",
       "      <td>757</td>\n",
       "    </tr>\n",
       "    <tr>\n",
       "      <th>Mrs</th>\n",
       "      <td>197</td>\n",
       "      <td>0</td>\n",
       "    </tr>\n",
       "    <tr>\n",
       "      <th>Ms</th>\n",
       "      <td>2</td>\n",
       "      <td>0</td>\n",
       "    </tr>\n",
       "    <tr>\n",
       "      <th>Rev</th>\n",
       "      <td>0</td>\n",
       "      <td>8</td>\n",
       "    </tr>\n",
       "    <tr>\n",
       "      <th>Sir</th>\n",
       "      <td>0</td>\n",
       "      <td>1</td>\n",
       "    </tr>\n",
       "  </tbody>\n",
       "</table>\n",
       "</div>"
      ],
      "text/plain": [
       "Sex         0    1\n",
       "Title             \n",
       "Capt        0    1\n",
       "Col         0    4\n",
       "Countess    1    0\n",
       "Don         0    1\n",
       "Dona        1    0\n",
       "Dr          1    7\n",
       "Jonkheer    0    1\n",
       "Lady        1    0\n",
       "Major       0    2\n",
       "Master      0   61\n",
       "Miss      260    0\n",
       "Mlle        2    0\n",
       "Mme         1    0\n",
       "Mr          0  757\n",
       "Mrs       197    0\n",
       "Ms          2    0\n",
       "Rev         0    8\n",
       "Sir         0    1"
      ]
     },
     "execution_count": 32,
     "metadata": {},
     "output_type": "execute_result"
    }
   ],
   "source": [
    "combine['Title'] = combine.Name.str.extract(' ([A-Za-z]+)\\.', expand=False)\n",
    "pd.crosstab(combine['Title'], combine['Sex'])"
   ]
  },
  {
   "cell_type": "code",
   "execution_count": 33,
   "metadata": {
    "execution": {
     "iopub.execute_input": "2021-05-02T11:28:08.405454Z",
     "iopub.status.busy": "2021-05-02T11:28:08.404491Z",
     "iopub.status.idle": "2021-05-02T11:28:08.410254Z",
     "shell.execute_reply": "2021-05-02T11:28:08.409585Z"
    },
    "papermill": {
     "duration": 0.07249,
     "end_time": "2021-05-02T11:28:08.410386",
     "exception": false,
     "start_time": "2021-05-02T11:28:08.337896",
     "status": "completed"
    },
    "tags": []
   },
   "outputs": [
    {
     "data": {
      "text/plain": [
       "array(['Mr', 'Mrs', 'Miss', 'Master', 'Rare'], dtype=object)"
      ]
     },
     "execution_count": 33,
     "metadata": {},
     "output_type": "execute_result"
    }
   ],
   "source": [
    "\n",
    "\n",
    "    combine['Title'] = combine['Title'].replace(['Ms', 'Mlle','Mme','Lady'], 'Miss')\n",
    "    combine['Title'] = combine['Title'].replace(['Countess','Dona'], 'Mrs')\n",
    "    combine['Title'] = combine['Title'].replace(['Don','Sir'], 'Mr')\n",
    "    combine['Title'] = combine['Title'].replace(['Rev','Dr','Major', 'Col', 'Capt','Jonkheer','Countess'], 'Rare')\n",
    "    combine.Title.unique()"
   ]
  },
  {
   "cell_type": "code",
   "execution_count": 34,
   "metadata": {
    "execution": {
     "iopub.execute_input": "2021-05-02T11:28:08.526528Z",
     "iopub.status.busy": "2021-05-02T11:28:08.525575Z",
     "iopub.status.idle": "2021-05-02T11:28:08.529639Z",
     "shell.execute_reply": "2021-05-02T11:28:08.529092Z"
    },
    "papermill": {
     "duration": 0.066541,
     "end_time": "2021-05-02T11:28:08.529764",
     "exception": false,
     "start_time": "2021-05-02T11:28:08.463223",
     "status": "completed"
    },
    "tags": []
   },
   "outputs": [],
   "source": [
    "combine['Title'] = LabelEncoder().fit_transform(combine['Title']) "
   ]
  },
  {
   "cell_type": "markdown",
   "metadata": {
    "papermill": {
     "duration": 0.055608,
     "end_time": "2021-05-02T11:28:08.639654",
     "exception": false,
     "start_time": "2021-05-02T11:28:08.584046",
     "status": "completed"
    },
    "tags": []
   },
   "source": [
    "# **NAME**"
   ]
  },
  {
   "cell_type": "code",
   "execution_count": 35,
   "metadata": {
    "execution": {
     "iopub.execute_input": "2021-05-02T11:28:08.757212Z",
     "iopub.status.busy": "2021-05-02T11:28:08.756524Z",
     "iopub.status.idle": "2021-05-02T11:28:08.759449Z",
     "shell.execute_reply": "2021-05-02T11:28:08.758794Z"
    },
    "papermill": {
     "duration": 0.065078,
     "end_time": "2021-05-02T11:28:08.759574",
     "exception": false,
     "start_time": "2021-05-02T11:28:08.694496",
     "status": "completed"
    },
    "tags": []
   },
   "outputs": [],
   "source": [
    "combine['LastName'] = last= combine.Name.str.extract('^(.+?),', expand = False)"
   ]
  },
  {
   "cell_type": "code",
   "execution_count": 36,
   "metadata": {
    "execution": {
     "iopub.execute_input": "2021-05-02T11:28:08.874824Z",
     "iopub.status.busy": "2021-05-02T11:28:08.873949Z",
     "iopub.status.idle": "2021-05-02T11:28:08.877598Z",
     "shell.execute_reply": "2021-05-02T11:28:08.876968Z"
    },
    "papermill": {
     "duration": 0.064407,
     "end_time": "2021-05-02T11:28:08.877722",
     "exception": false,
     "start_time": "2021-05-02T11:28:08.813315",
     "status": "completed"
    },
    "tags": []
   },
   "outputs": [],
   "source": [
    "combine['WomChi'] = ((combine.Title == 0) | (combine.Sex == 0))"
   ]
  },
  {
   "cell_type": "code",
   "execution_count": 37,
   "metadata": {
    "execution": {
     "iopub.execute_input": "2021-05-02T11:28:08.996429Z",
     "iopub.status.busy": "2021-05-02T11:28:08.995334Z",
     "iopub.status.idle": "2021-05-02T11:28:10.709133Z",
     "shell.execute_reply": "2021-05-02T11:28:10.708443Z"
    },
    "papermill": {
     "duration": 1.777601,
     "end_time": "2021-05-02T11:28:10.709256",
     "exception": false,
     "start_time": "2021-05-02T11:28:08.931655",
     "status": "completed"
    },
    "tags": []
   },
   "outputs": [],
   "source": [
    "family = combine.groupby([combine.LastName, combine.Pclass, combine.Ticket]).Survived\n",
    "\n",
    "combine['FTotalCount'] = family.transform(lambda s: s[combine.WomChi].fillna(0).count())\n",
    "combine['FTotalCount'] = combine.mask(combine.WomChi, (combine.FTotalCount - 1), axis=0)\n",
    "\n",
    "combine['FSurvivedCount'] = family.transform(lambda s: s[combine.WomChi].fillna(0).sum())\n",
    "combine['FSurvivedCount'] = combine.mask(combine.WomChi, combine.FSurvivedCount - combine.Survived.fillna(0), axis=0)\n",
    "\n",
    "combine['FSurvivalRate'] = (combine.FSurvivedCount / combine.FTotalCount.replace(0, np.nan))"
   ]
  },
  {
   "cell_type": "code",
   "execution_count": 38,
   "metadata": {
    "execution": {
     "iopub.execute_input": "2021-05-02T11:28:10.827634Z",
     "iopub.status.busy": "2021-05-02T11:28:10.824791Z",
     "iopub.status.idle": "2021-05-02T11:28:10.832145Z",
     "shell.execute_reply": "2021-05-02T11:28:10.832712Z"
    },
    "papermill": {
     "duration": 0.068967,
     "end_time": "2021-05-02T11:28:10.832876",
     "exception": false,
     "start_time": "2021-05-02T11:28:10.763909",
     "status": "completed"
    },
    "tags": []
   },
   "outputs": [
    {
     "data": {
      "text/plain": [
       "Survived           418\n",
       "Pclass               0\n",
       "Name                 0\n",
       "Sex                  0\n",
       "Age                  0\n",
       "Ticket               0\n",
       "Fare                 0\n",
       "Embarked             0\n",
       "FamilySize           0\n",
       "Title                0\n",
       "LastName             0\n",
       "WomChi               0\n",
       "FTotalCount        245\n",
       "FSurvivedCount     245\n",
       "FSurvivalRate     1014\n",
       "dtype: int64"
      ]
     },
     "execution_count": 38,
     "metadata": {},
     "output_type": "execute_result"
    }
   ],
   "source": [
    "combine.isna().sum()"
   ]
  },
  {
   "cell_type": "code",
   "execution_count": 39,
   "metadata": {
    "execution": {
     "iopub.execute_input": "2021-05-02T11:28:10.951223Z",
     "iopub.status.busy": "2021-05-02T11:28:10.950571Z",
     "iopub.status.idle": "2021-05-02T11:28:10.954077Z",
     "shell.execute_reply": "2021-05-02T11:28:10.953564Z"
    },
    "papermill": {
     "duration": 0.067099,
     "end_time": "2021-05-02T11:28:10.954197",
     "exception": false,
     "start_time": "2021-05-02T11:28:10.887098",
     "status": "completed"
    },
    "tags": []
   },
   "outputs": [],
   "source": [
    "# filling the missing values\n",
    "combine.FSurvivalRate.fillna(0, inplace = True)\n",
    "combine.FTotalCount.fillna(0, inplace = True)\n",
    "combine.FSurvivedCount.fillna(0, inplace = True)"
   ]
  },
  {
   "cell_type": "markdown",
   "metadata": {
    "papermill": {
     "duration": 0.055219,
     "end_time": "2021-05-02T11:28:11.063485",
     "exception": false,
     "start_time": "2021-05-02T11:28:11.008266",
     "status": "completed"
    },
    "tags": []
   },
   "source": [
    "# **MODELLING**"
   ]
  },
  {
   "cell_type": "code",
   "execution_count": 40,
   "metadata": {
    "execution": {
     "iopub.execute_input": "2021-05-02T11:28:11.178224Z",
     "iopub.status.busy": "2021-05-02T11:28:11.177568Z",
     "iopub.status.idle": "2021-05-02T11:28:11.181750Z",
     "shell.execute_reply": "2021-05-02T11:28:11.181121Z"
    },
    "papermill": {
     "duration": 0.063947,
     "end_time": "2021-05-02T11:28:11.181873",
     "exception": false,
     "start_time": "2021-05-02T11:28:11.117926",
     "status": "completed"
    },
    "tags": []
   },
   "outputs": [],
   "source": [
    "combine['PassengerId'] = combine.index"
   ]
  },
  {
   "cell_type": "code",
   "execution_count": 41,
   "metadata": {
    "execution": {
     "iopub.execute_input": "2021-05-02T11:28:11.297211Z",
     "iopub.status.busy": "2021-05-02T11:28:11.296542Z",
     "iopub.status.idle": "2021-05-02T11:28:11.307700Z",
     "shell.execute_reply": "2021-05-02T11:28:11.306998Z"
    },
    "papermill": {
     "duration": 0.071002,
     "end_time": "2021-05-02T11:28:11.307819",
     "exception": false,
     "start_time": "2021-05-02T11:28:11.236817",
     "status": "completed"
    },
    "tags": []
   },
   "outputs": [],
   "source": [
    "combine = pd.get_dummies(combine, columns=['Sex','Fare','Pclass'])"
   ]
  },
  {
   "cell_type": "code",
   "execution_count": 42,
   "metadata": {
    "execution": {
     "iopub.execute_input": "2021-05-02T11:28:11.423337Z",
     "iopub.status.busy": "2021-05-02T11:28:11.422689Z",
     "iopub.status.idle": "2021-05-02T11:28:11.427592Z",
     "shell.execute_reply": "2021-05-02T11:28:11.426952Z"
    },
    "papermill": {
     "duration": 0.065062,
     "end_time": "2021-05-02T11:28:11.427704",
     "exception": false,
     "start_time": "2021-05-02T11:28:11.362642",
     "status": "completed"
    },
    "tags": []
   },
   "outputs": [],
   "source": [
    "combine.drop(['Name','LastName','WomChi','FTotalCount','FSurvivedCount','Embarked','Title'], axis = 1, inplace = True)"
   ]
  },
  {
   "cell_type": "code",
   "execution_count": 43,
   "metadata": {
    "execution": {
     "iopub.execute_input": "2021-05-02T11:28:11.541572Z",
     "iopub.status.busy": "2021-05-02T11:28:11.540895Z",
     "iopub.status.idle": "2021-05-02T11:28:11.544954Z",
     "shell.execute_reply": "2021-05-02T11:28:11.544281Z"
    },
    "papermill": {
     "duration": 0.063387,
     "end_time": "2021-05-02T11:28:11.545087",
     "exception": false,
     "start_time": "2021-05-02T11:28:11.481700",
     "status": "completed"
    },
    "tags": []
   },
   "outputs": [
    {
     "data": {
      "text/plain": [
       "Index(['Survived', 'Age', 'Ticket', 'FamilySize', 'FSurvivalRate',\n",
       "       'PassengerId', 'Sex_0', 'Sex_1', 'Fare_0', 'Fare_1', 'Fare_2', 'Fare_3',\n",
       "       'Pclass_1', 'Pclass_2', 'Pclass_3'],\n",
       "      dtype='object')"
      ]
     },
     "execution_count": 43,
     "metadata": {},
     "output_type": "execute_result"
    }
   ],
   "source": [
    "combine.columns"
   ]
  },
  {
   "cell_type": "code",
   "execution_count": 44,
   "metadata": {
    "execution": {
     "iopub.execute_input": "2021-05-02T11:28:11.674629Z",
     "iopub.status.busy": "2021-05-02T11:28:11.673672Z",
     "iopub.status.idle": "2021-05-02T11:28:11.678959Z",
     "shell.execute_reply": "2021-05-02T11:28:11.678427Z"
    },
    "papermill": {
     "duration": 0.078707,
     "end_time": "2021-05-02T11:28:11.679091",
     "exception": false,
     "start_time": "2021-05-02T11:28:11.600384",
     "status": "completed"
    },
    "tags": []
   },
   "outputs": [
    {
     "data": {
      "text/html": [
       "<div>\n",
       "<style scoped>\n",
       "    .dataframe tbody tr th:only-of-type {\n",
       "        vertical-align: middle;\n",
       "    }\n",
       "\n",
       "    .dataframe tbody tr th {\n",
       "        vertical-align: top;\n",
       "    }\n",
       "\n",
       "    .dataframe thead th {\n",
       "        text-align: right;\n",
       "    }\n",
       "</style>\n",
       "<table border=\"1\" class=\"dataframe\">\n",
       "  <thead>\n",
       "    <tr style=\"text-align: right;\">\n",
       "      <th></th>\n",
       "      <th>Survived</th>\n",
       "      <th>Age</th>\n",
       "      <th>Ticket</th>\n",
       "      <th>FamilySize</th>\n",
       "      <th>FSurvivalRate</th>\n",
       "      <th>PassengerId</th>\n",
       "      <th>Sex_0</th>\n",
       "      <th>Sex_1</th>\n",
       "      <th>Fare_0</th>\n",
       "      <th>Fare_1</th>\n",
       "      <th>Fare_2</th>\n",
       "      <th>Fare_3</th>\n",
       "      <th>Pclass_1</th>\n",
       "      <th>Pclass_2</th>\n",
       "      <th>Pclass_3</th>\n",
       "    </tr>\n",
       "    <tr>\n",
       "      <th>PassengerId</th>\n",
       "      <th></th>\n",
       "      <th></th>\n",
       "      <th></th>\n",
       "      <th></th>\n",
       "      <th></th>\n",
       "      <th></th>\n",
       "      <th></th>\n",
       "      <th></th>\n",
       "      <th></th>\n",
       "      <th></th>\n",
       "      <th></th>\n",
       "      <th></th>\n",
       "      <th></th>\n",
       "      <th></th>\n",
       "      <th></th>\n",
       "    </tr>\n",
       "  </thead>\n",
       "  <tbody>\n",
       "    <tr>\n",
       "      <th>1</th>\n",
       "      <td>0.0</td>\n",
       "      <td>1</td>\n",
       "      <td>21171</td>\n",
       "      <td>1</td>\n",
       "      <td>0.0</td>\n",
       "      <td>1</td>\n",
       "      <td>0</td>\n",
       "      <td>1</td>\n",
       "      <td>1</td>\n",
       "      <td>0</td>\n",
       "      <td>0</td>\n",
       "      <td>0</td>\n",
       "      <td>0</td>\n",
       "      <td>0</td>\n",
       "      <td>1</td>\n",
       "    </tr>\n",
       "    <tr>\n",
       "      <th>2</th>\n",
       "      <td>1.0</td>\n",
       "      <td>1</td>\n",
       "      <td>17599</td>\n",
       "      <td>1</td>\n",
       "      <td>0.0</td>\n",
       "      <td>2</td>\n",
       "      <td>1</td>\n",
       "      <td>0</td>\n",
       "      <td>1</td>\n",
       "      <td>0</td>\n",
       "      <td>0</td>\n",
       "      <td>0</td>\n",
       "      <td>1</td>\n",
       "      <td>0</td>\n",
       "      <td>0</td>\n",
       "    </tr>\n",
       "    <tr>\n",
       "      <th>3</th>\n",
       "      <td>1.0</td>\n",
       "      <td>1</td>\n",
       "      <td>3101282</td>\n",
       "      <td>0</td>\n",
       "      <td>0.0</td>\n",
       "      <td>3</td>\n",
       "      <td>1</td>\n",
       "      <td>0</td>\n",
       "      <td>1</td>\n",
       "      <td>0</td>\n",
       "      <td>0</td>\n",
       "      <td>0</td>\n",
       "      <td>0</td>\n",
       "      <td>0</td>\n",
       "      <td>1</td>\n",
       "    </tr>\n",
       "    <tr>\n",
       "      <th>4</th>\n",
       "      <td>1.0</td>\n",
       "      <td>1</td>\n",
       "      <td>113803</td>\n",
       "      <td>1</td>\n",
       "      <td>0.0</td>\n",
       "      <td>4</td>\n",
       "      <td>1</td>\n",
       "      <td>0</td>\n",
       "      <td>1</td>\n",
       "      <td>0</td>\n",
       "      <td>0</td>\n",
       "      <td>0</td>\n",
       "      <td>1</td>\n",
       "      <td>0</td>\n",
       "      <td>0</td>\n",
       "    </tr>\n",
       "    <tr>\n",
       "      <th>5</th>\n",
       "      <td>0.0</td>\n",
       "      <td>1</td>\n",
       "      <td>373450</td>\n",
       "      <td>0</td>\n",
       "      <td>0.0</td>\n",
       "      <td>5</td>\n",
       "      <td>0</td>\n",
       "      <td>1</td>\n",
       "      <td>1</td>\n",
       "      <td>0</td>\n",
       "      <td>0</td>\n",
       "      <td>0</td>\n",
       "      <td>0</td>\n",
       "      <td>0</td>\n",
       "      <td>1</td>\n",
       "    </tr>\n",
       "    <tr>\n",
       "      <th>6</th>\n",
       "      <td>0.0</td>\n",
       "      <td>1</td>\n",
       "      <td>330877</td>\n",
       "      <td>0</td>\n",
       "      <td>0.0</td>\n",
       "      <td>6</td>\n",
       "      <td>0</td>\n",
       "      <td>1</td>\n",
       "      <td>1</td>\n",
       "      <td>0</td>\n",
       "      <td>0</td>\n",
       "      <td>0</td>\n",
       "      <td>0</td>\n",
       "      <td>0</td>\n",
       "      <td>1</td>\n",
       "    </tr>\n",
       "    <tr>\n",
       "      <th>7</th>\n",
       "      <td>0.0</td>\n",
       "      <td>2</td>\n",
       "      <td>17463</td>\n",
       "      <td>0</td>\n",
       "      <td>0.0</td>\n",
       "      <td>7</td>\n",
       "      <td>0</td>\n",
       "      <td>1</td>\n",
       "      <td>1</td>\n",
       "      <td>0</td>\n",
       "      <td>0</td>\n",
       "      <td>0</td>\n",
       "      <td>1</td>\n",
       "      <td>0</td>\n",
       "      <td>0</td>\n",
       "    </tr>\n",
       "    <tr>\n",
       "      <th>8</th>\n",
       "      <td>0.0</td>\n",
       "      <td>0</td>\n",
       "      <td>349909</td>\n",
       "      <td>2</td>\n",
       "      <td>0.0</td>\n",
       "      <td>8</td>\n",
       "      <td>0</td>\n",
       "      <td>1</td>\n",
       "      <td>1</td>\n",
       "      <td>0</td>\n",
       "      <td>0</td>\n",
       "      <td>0</td>\n",
       "      <td>0</td>\n",
       "      <td>0</td>\n",
       "      <td>1</td>\n",
       "    </tr>\n",
       "    <tr>\n",
       "      <th>9</th>\n",
       "      <td>1.0</td>\n",
       "      <td>1</td>\n",
       "      <td>347742</td>\n",
       "      <td>1</td>\n",
       "      <td>1.0</td>\n",
       "      <td>9</td>\n",
       "      <td>1</td>\n",
       "      <td>0</td>\n",
       "      <td>1</td>\n",
       "      <td>0</td>\n",
       "      <td>0</td>\n",
       "      <td>0</td>\n",
       "      <td>0</td>\n",
       "      <td>0</td>\n",
       "      <td>1</td>\n",
       "    </tr>\n",
       "    <tr>\n",
       "      <th>10</th>\n",
       "      <td>1.0</td>\n",
       "      <td>0</td>\n",
       "      <td>237736</td>\n",
       "      <td>1</td>\n",
       "      <td>0.0</td>\n",
       "      <td>10</td>\n",
       "      <td>1</td>\n",
       "      <td>0</td>\n",
       "      <td>1</td>\n",
       "      <td>0</td>\n",
       "      <td>0</td>\n",
       "      <td>0</td>\n",
       "      <td>0</td>\n",
       "      <td>1</td>\n",
       "      <td>0</td>\n",
       "    </tr>\n",
       "  </tbody>\n",
       "</table>\n",
       "</div>"
      ],
      "text/plain": [
       "             Survived  Age   Ticket  FamilySize  FSurvivalRate  PassengerId  \\\n",
       "PassengerId                                                                   \n",
       "1                 0.0    1    21171           1            0.0            1   \n",
       "2                 1.0    1    17599           1            0.0            2   \n",
       "3                 1.0    1  3101282           0            0.0            3   \n",
       "4                 1.0    1   113803           1            0.0            4   \n",
       "5                 0.0    1   373450           0            0.0            5   \n",
       "6                 0.0    1   330877           0            0.0            6   \n",
       "7                 0.0    2    17463           0            0.0            7   \n",
       "8                 0.0    0   349909           2            0.0            8   \n",
       "9                 1.0    1   347742           1            1.0            9   \n",
       "10                1.0    0   237736           1            0.0           10   \n",
       "\n",
       "             Sex_0  Sex_1  Fare_0  Fare_1  Fare_2  Fare_3  Pclass_1  Pclass_2  \\\n",
       "PassengerId                                                                     \n",
       "1                0      1       1       0       0       0         0         0   \n",
       "2                1      0       1       0       0       0         1         0   \n",
       "3                1      0       1       0       0       0         0         0   \n",
       "4                1      0       1       0       0       0         1         0   \n",
       "5                0      1       1       0       0       0         0         0   \n",
       "6                0      1       1       0       0       0         0         0   \n",
       "7                0      1       1       0       0       0         1         0   \n",
       "8                0      1       1       0       0       0         0         0   \n",
       "9                1      0       1       0       0       0         0         0   \n",
       "10               1      0       1       0       0       0         0         1   \n",
       "\n",
       "             Pclass_3  \n",
       "PassengerId            \n",
       "1                   1  \n",
       "2                   0  \n",
       "3                   1  \n",
       "4                   0  \n",
       "5                   1  \n",
       "6                   1  \n",
       "7                   0  \n",
       "8                   1  \n",
       "9                   1  \n",
       "10                  0  "
      ]
     },
     "execution_count": 44,
     "metadata": {},
     "output_type": "execute_result"
    }
   ],
   "source": [
    "combine.head(10)"
   ]
  },
  {
   "cell_type": "code",
   "execution_count": 45,
   "metadata": {
    "execution": {
     "iopub.execute_input": "2021-05-02T11:28:11.797878Z",
     "iopub.status.busy": "2021-05-02T11:28:11.796850Z",
     "iopub.status.idle": "2021-05-02T11:28:11.800338Z",
     "shell.execute_reply": "2021-05-02T11:28:11.799818Z"
    },
    "papermill": {
     "duration": 0.065788,
     "end_time": "2021-05-02T11:28:11.800481",
     "exception": false,
     "start_time": "2021-05-02T11:28:11.734693",
     "status": "completed"
    },
    "tags": []
   },
   "outputs": [],
   "source": [
    "combine.drop(['PassengerId'],axis=1,inplace=True)"
   ]
  },
  {
   "cell_type": "code",
   "execution_count": 46,
   "metadata": {
    "execution": {
     "iopub.execute_input": "2021-05-02T11:28:11.919295Z",
     "iopub.status.busy": "2021-05-02T11:28:11.918646Z",
     "iopub.status.idle": "2021-05-02T11:28:11.922898Z",
     "shell.execute_reply": "2021-05-02T11:28:11.922229Z"
    },
    "papermill": {
     "duration": 0.06625,
     "end_time": "2021-05-02T11:28:11.923023",
     "exception": false,
     "start_time": "2021-05-02T11:28:11.856773",
     "status": "completed"
    },
    "tags": []
   },
   "outputs": [
    {
     "name": "stdout",
     "output_type": "stream",
     "text": [
      "(891, 14) (418, 14)\n"
     ]
    }
   ],
   "source": [
    "trainx=combine.iloc[:891]\n",
    "testx=combine.iloc[891:]\n",
    "print(trainx.shape,testx.shape)"
   ]
  },
  {
   "cell_type": "code",
   "execution_count": 47,
   "metadata": {
    "execution": {
     "iopub.execute_input": "2021-05-02T11:28:12.045178Z",
     "iopub.status.busy": "2021-05-02T11:28:12.044498Z",
     "iopub.status.idle": "2021-05-02T11:28:12.048102Z",
     "shell.execute_reply": "2021-05-02T11:28:12.047464Z"
    },
    "papermill": {
     "duration": 0.068907,
     "end_time": "2021-05-02T11:28:12.048217",
     "exception": false,
     "start_time": "2021-05-02T11:28:11.979310",
     "status": "completed"
    },
    "tags": []
   },
   "outputs": [],
   "source": [
    "X_train = trainx.drop(['Survived'], axis = 1)\n",
    "y = trainx[\"Survived\"]\n",
    "train_names = X_train.columns\n",
    "\n",
    "X_test = testx.drop(['Survived'], axis = 1)"
   ]
  },
  {
   "cell_type": "code",
   "execution_count": 48,
   "metadata": {
    "execution": {
     "iopub.execute_input": "2021-05-02T11:28:12.171037Z",
     "iopub.status.busy": "2021-05-02T11:28:12.170163Z",
     "iopub.status.idle": "2021-05-02T11:28:12.181525Z",
     "shell.execute_reply": "2021-05-02T11:28:12.180720Z"
    },
    "papermill": {
     "duration": 0.076219,
     "end_time": "2021-05-02T11:28:12.181658",
     "exception": false,
     "start_time": "2021-05-02T11:28:12.105439",
     "status": "completed"
    },
    "tags": []
   },
   "outputs": [],
   "source": [
    "# Scaler\n",
    "trainx = StandardScaler().fit_transform(X_train)\n",
    "testx = StandardScaler().fit_transform(X_test)"
   ]
  },
  {
   "cell_type": "code",
   "execution_count": 49,
   "metadata": {
    "execution": {
     "iopub.execute_input": "2021-05-02T11:28:12.302760Z",
     "iopub.status.busy": "2021-05-02T11:28:12.302053Z",
     "iopub.status.idle": "2021-05-02T11:28:13.158852Z",
     "shell.execute_reply": "2021-05-02T11:28:13.157754Z"
    },
    "papermill": {
     "duration": 0.919844,
     "end_time": "2021-05-02T11:28:13.158995",
     "exception": false,
     "start_time": "2021-05-02T11:28:12.239151",
     "status": "completed"
    },
    "tags": []
   },
   "outputs": [],
   "source": [
    "from sklearn .linear_model import LogisticRegression\n",
    "from sklearn.svm import SVC,LinearSVC\n",
    "from sklearn.ensemble import RandomForestClassifier\n",
    "from sklearn.neighbors import KNeighborsClassifier\n",
    "from sklearn.tree import DecisionTreeClassifier\n",
    "from sklearn.linear_model import Perceptron\n",
    "\n",
    "from sklearn.metrics import accuracy_score\n",
    "from xgboost.sklearn import XGBClassifier"
   ]
  },
  {
   "cell_type": "code",
   "execution_count": 50,
   "metadata": {
    "execution": {
     "iopub.execute_input": "2021-05-02T11:28:13.285427Z",
     "iopub.status.busy": "2021-05-02T11:28:13.284649Z",
     "iopub.status.idle": "2021-05-02T11:28:13.294332Z",
     "shell.execute_reply": "2021-05-02T11:28:13.294877Z"
    },
    "papermill": {
     "duration": 0.076037,
     "end_time": "2021-05-02T11:28:13.295034",
     "exception": false,
     "start_time": "2021-05-02T11:28:13.218997",
     "status": "completed"
    },
    "tags": []
   },
   "outputs": [
    {
     "name": "stdout",
     "output_type": "stream",
     "text": [
      "Accuracy of the model:  99.89\n"
     ]
    }
   ],
   "source": [
    "decision_tree = DecisionTreeClassifier()\n",
    "decision_tree.fit(trainx,y)\n",
    "predDT = decision_tree.predict(testx)\n",
    "\n",
    "print(\"Accuracy of the model: \",round(decision_tree.score(trainx, y) * 100, 2))"
   ]
  },
  {
   "cell_type": "code",
   "execution_count": 51,
   "metadata": {
    "execution": {
     "iopub.execute_input": "2021-05-02T11:28:13.414092Z",
     "iopub.status.busy": "2021-05-02T11:28:13.413019Z",
     "iopub.status.idle": "2021-05-02T11:28:13.505211Z",
     "shell.execute_reply": "2021-05-02T11:28:13.506168Z"
    },
    "papermill": {
     "duration": 0.154274,
     "end_time": "2021-05-02T11:28:13.506345",
     "exception": false,
     "start_time": "2021-05-02T11:28:13.352071",
     "status": "completed"
    },
    "tags": []
   },
   "outputs": [
    {
     "name": "stdout",
     "output_type": "stream",
     "text": [
      "score: 99.44 %\n"
     ]
    }
   ],
   "source": [
    "clf = XGBClassifier()\n",
    "clf.fit(trainx,y, eval_metric='auc', verbose=True)\n",
    "xgb_pred = clf.predict(testx)\n",
    "xgb_score = round(clf.score(trainx, y) * 100, 2)\n",
    "print(\"score:\", xgb_score, \"%\")"
   ]
  },
  {
   "cell_type": "code",
   "execution_count": 52,
   "metadata": {
    "execution": {
     "iopub.execute_input": "2021-05-02T11:28:13.667694Z",
     "iopub.status.busy": "2021-05-02T11:28:13.666884Z",
     "iopub.status.idle": "2021-05-02T11:28:13.681100Z",
     "shell.execute_reply": "2021-05-02T11:28:13.681677Z"
    },
    "papermill": {
     "duration": 0.100543,
     "end_time": "2021-05-02T11:28:13.681854",
     "exception": false,
     "start_time": "2021-05-02T11:28:13.581311",
     "status": "completed"
    },
    "tags": []
   },
   "outputs": [
    {
     "name": "stdout",
     "output_type": "stream",
     "text": [
      "score: 91.47 %\n"
     ]
    },
    {
     "name": "stderr",
     "output_type": "stream",
     "text": [
      "/opt/conda/lib/python3.7/site-packages/sklearn/linear_model/_stochastic_gradient.py:573: ConvergenceWarning: Maximum number of iteration reached before convergence. Consider increasing max_iter to improve the fit.\n",
      "  ConvergenceWarning)\n"
     ]
    }
   ],
   "source": [
    "perceptron = Perceptron(max_iter=4)\n",
    "perceptron.fit(trainx,y)\n",
    "\n",
    "percep_pred = perceptron.predict(testx)\n",
    "\n",
    "percep_score = round(perceptron.score(trainx,y) * 100, 2)\n",
    "print(\"score:\", percep_score, \"%\")"
   ]
  },
  {
   "cell_type": "code",
   "execution_count": 53,
   "metadata": {
    "execution": {
     "iopub.execute_input": "2021-05-02T11:28:13.829778Z",
     "iopub.status.busy": "2021-05-02T11:28:13.824545Z",
     "iopub.status.idle": "2021-05-02T11:28:14.451631Z",
     "shell.execute_reply": "2021-05-02T11:28:14.452129Z"
    },
    "papermill": {
     "duration": 0.708397,
     "end_time": "2021-05-02T11:28:14.452290",
     "exception": false,
     "start_time": "2021-05-02T11:28:13.743893",
     "status": "completed"
    },
    "tags": []
   },
   "outputs": [
    {
     "name": "stdout",
     "output_type": "stream",
     "text": [
      "score: 96.52 %\n"
     ]
    }
   ],
   "source": [
    "random_forest = RandomForestClassifier(criterion = \"gini\", \n",
    "                                       min_samples_leaf = 1, \n",
    "                                       min_samples_split = 10,   \n",
    "                                       n_estimators=100, \n",
    "                                       max_features='auto', \n",
    "                                       oob_score=True, \n",
    "                                       random_state=1, \n",
    "                                       n_jobs=-1)\n",
    "\n",
    "random_forest.fit(trainx,y)\n",
    "rf_pred = random_forest.predict(testx)\n",
    "\n",
    "rf_score = round(random_forest.score(trainx,y) * 100, 2)\n",
    "print(\"score:\", rf_score, \"%\")"
   ]
  },
  {
   "cell_type": "code",
   "execution_count": 54,
   "metadata": {
    "execution": {
     "iopub.execute_input": "2021-05-02T11:28:14.578808Z",
     "iopub.status.busy": "2021-05-02T11:28:14.577893Z",
     "iopub.status.idle": "2021-05-02T11:28:14.834177Z",
     "shell.execute_reply": "2021-05-02T11:28:14.832947Z"
    },
    "papermill": {
     "duration": 0.322374,
     "end_time": "2021-05-02T11:28:14.834314",
     "exception": false,
     "start_time": "2021-05-02T11:28:14.511940",
     "status": "completed"
    },
    "tags": []
   },
   "outputs": [],
   "source": [
    "submission = pd.DataFrame({\n",
    "        \"PassengerId\": pid,\n",
    "        \"Survived\": predDT\n",
    "    })\n",
    "submission.to_csv('submission.csv',index=False)"
   ]
  },
  {
   "cell_type": "code",
   "execution_count": 55,
   "metadata": {
    "execution": {
     "iopub.execute_input": "2021-05-02T11:28:14.966486Z",
     "iopub.status.busy": "2021-05-02T11:28:14.962195Z",
     "iopub.status.idle": "2021-05-02T11:28:14.972716Z",
     "shell.execute_reply": "2021-05-02T11:28:14.972084Z"
    },
    "papermill": {
     "duration": 0.078981,
     "end_time": "2021-05-02T11:28:14.972852",
     "exception": false,
     "start_time": "2021-05-02T11:28:14.893871",
     "status": "completed"
    },
    "tags": []
   },
   "outputs": [],
   "source": [
    "submit = pd.DataFrame({\"PassengerId\":pid, 'Survived':predDT.astype(int).ravel()})\n",
    "submit.to_csv(\"submission.csv\",index = False)"
   ]
  },
  {
   "cell_type": "code",
   "execution_count": 56,
   "metadata": {
    "execution": {
     "iopub.execute_input": "2021-05-02T11:28:15.112595Z",
     "iopub.status.busy": "2021-05-02T11:28:15.111790Z",
     "iopub.status.idle": "2021-05-02T11:28:15.116722Z",
     "shell.execute_reply": "2021-05-02T11:28:15.116045Z"
    },
    "papermill": {
     "duration": 0.080228,
     "end_time": "2021-05-02T11:28:15.116837",
     "exception": false,
     "start_time": "2021-05-02T11:28:15.036609",
     "status": "completed"
    },
    "tags": []
   },
   "outputs": [
    {
     "data": {
      "text/html": [
       "<a download=\"submission.csv\" href=\"data:text/csv;base64,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\" target=\"_blank\">Download CSV file</a>"
      ],
      "text/plain": [
       "<IPython.core.display.HTML object>"
      ]
     },
     "execution_count": 56,
     "metadata": {},
     "output_type": "execute_result"
    }
   ],
   "source": [
    "from IPython.display import HTML\n",
    "import base64\n",
    "\n",
    "# function that takes in a dataframe and creates a text link to  \n",
    "# download it (will only work for files < 2MB or so)\n",
    "def create_download_link(df, title = \"Download CSV file\", filename = \"submission.csv\"):  \n",
    "    csv = df.to_csv()\n",
    "    b64 = base64.b64encode(csv.encode())\n",
    "    payload = b64.decode()\n",
    "    html = '<a download=\"{filename}\" href=\"data:text/csv;base64,{payload}\" target=\"_blank\">{title}</a>'\n",
    "    html = html.format(payload=payload,title=title,filename=filename)\n",
    "    return HTML(html)\n",
    "\n",
    "submission = pd.DataFrame({\n",
    "        \"PassengerId\": pid,\n",
    "        \"Survived\": predDT\n",
    "    })\n",
    "create_download_link(submission)"
   ]
  },
  {
   "cell_type": "code",
   "execution_count": null,
   "metadata": {
    "papermill": {
     "duration": 0.059454,
     "end_time": "2021-05-02T11:28:15.237943",
     "exception": false,
     "start_time": "2021-05-02T11:28:15.178489",
     "status": "completed"
    },
    "tags": []
   },
   "outputs": [],
   "source": []
  },
  {
   "cell_type": "code",
   "execution_count": null,
   "metadata": {
    "papermill": {
     "duration": 0.059842,
     "end_time": "2021-05-02T11:28:15.360242",
     "exception": false,
     "start_time": "2021-05-02T11:28:15.300400",
     "status": "completed"
    },
    "tags": []
   },
   "outputs": [],
   "source": []
  }
 ],
 "metadata": {
  "kernelspec": {
   "display_name": "Python 3",
   "language": "python",
   "name": "python3"
  },
  "language_info": {
   "codemirror_mode": {
    "name": "ipython",
    "version": 3
   },
   "file_extension": ".py",
   "mimetype": "text/x-python",
   "name": "python",
   "nbconvert_exporter": "python",
   "pygments_lexer": "ipython3",
   "version": "3.7.6"
  },
  "papermill": {
   "duration": 18.363969,
   "end_time": "2021-05-02T11:28:15.527865",
   "environment_variables": {},
   "exception": null,
   "input_path": "__notebook__.ipynb",
   "output_path": "__notebook__.ipynb",
   "parameters": {},
   "start_time": "2021-05-02T11:27:57.163896",
   "version": "2.1.0"
  }
 },
 "nbformat": 4,
 "nbformat_minor": 4
}
